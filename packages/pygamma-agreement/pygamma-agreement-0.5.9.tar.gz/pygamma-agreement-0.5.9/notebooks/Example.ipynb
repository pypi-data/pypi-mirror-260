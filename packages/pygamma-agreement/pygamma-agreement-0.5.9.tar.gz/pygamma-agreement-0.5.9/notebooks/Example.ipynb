{
 "cells": [
  {
   "cell_type": "markdown",
   "metadata": {
    "collapsed": true,
    "pycharm": {
     "name": "#%% md\n"
    }
   },
   "source": [
    "# pygamma-agreement Example Notebook\n",
    "\n",
    "This notebook will show you some basic usage of the pygamma-agreement library.\n",
    "\n",
    "First, let's load a csv file into a `Continuum` object and inspect\n",
    "this object's properties. We'll use one of the short example files contained\n",
    "in the `tests/data/` directory."
   ]
  },
  {
   "cell_type": "code",
   "execution_count": 1,
   "metadata": {
    "pycharm": {
     "name": "#%%\n"
    }
   },
   "outputs": [
    {
     "data": {
      "text/plain": "<pygamma_agreement.continuum.Continuum at 0x7ff930592850>",
      "image/png": "[encoded data removed]"
     },
     "execution_count": 1,
     "metadata": {},
     "output_type": "execute_result"
    }
   ],
   "source": [
    "from pygamma_agreement import Continuum\n",
    "\n",
    "continuum = Continuum.from_csv(\"../tests/data/AlexPaulSuzan.csv\")\n",
    "continuum"
   ]
  },
  {
   "cell_type": "markdown",
   "metadata": {
    "pycharm": {
     "name": "#%% md\n"
    }
   },
   "source": [
    "A continuum is made of _units_. A unit is a segment, optionally with some\n",
    "text annotation, that has been annotated by some human or automatic annotator.\n",
    "Let's have a look at these units:"
   ]
  },
  {
   "cell_type": "code",
   "execution_count": 2,
   "metadata": {
    "pycharm": {
     "name": "#%%\n"
    }
   },
   "outputs": [
    {
     "name": "stdout",
     "output_type": "stream",
     "text": [
      "Alex  :  Unit(segment=<Segment(2, 9)>, annotation='1')\n",
      "Alex  :  Unit(segment=<Segment(11, 17)>, annotation='2')\n",
      "Alex  :  Unit(segment=<Segment(24, 30)>, annotation='5')\n",
      "Alex  :  Unit(segment=<Segment(32, 36)>, annotation='6')\n",
      "Alex  :  Unit(segment=<Segment(36, 44)>, annotation='6')\n",
      "Alex  :  Unit(segment=<Segment(44, 60)>, annotation='7')\n",
      "Paul  :  Unit(segment=<Segment(2, 9)>, annotation='1')\n",
      "Paul  :  Unit(segment=<Segment(11, 17)>, annotation='3')\n",
      "Paul  :  Unit(segment=<Segment(19, 25)>, annotation='5')\n",
      "Paul  :  Unit(segment=<Segment(32, 44)>, annotation='6')\n",
      "Suzan  :  Unit(segment=<Segment(2, 9)>, annotation='1')\n",
      "Suzan  :  Unit(segment=<Segment(11, 17)>, annotation='4')\n",
      "Suzan  :  Unit(segment=<Segment(21, 27)>, annotation='5')\n",
      "Suzan  :  Unit(segment=<Segment(32, 36)>, annotation='6')\n",
      "Suzan  :  Unit(segment=<Segment(36, 40)>, annotation='6')\n",
      "Suzan  :  Unit(segment=<Segment(40, 44)>, annotation='6')\n"
     ]
    }
   ],
   "source": [
    "for annotator, unit in continuum:\n",
    "    print(annotator, \" : \", unit)"
   ]
  },
  {
   "cell_type": "markdown",
   "metadata": {
    "pycharm": {
     "name": "#%% md\n"
    }
   },
   "source": [
    "We can also list some basic properties of this continuum instance"
   ]
  },
  {
   "cell_type": "code",
   "execution_count": 3,
   "metadata": {
    "pycharm": {
     "name": "#%%\n"
    }
   },
   "outputs": [
    {
     "name": "stdout",
     "output_type": "stream",
     "text": [
      "All annotators: SortedSet(['Alex', 'Paul', 'Suzan'])\n",
      "All categories: SortedSet(['1', '2', '3', '4', '5', '6', '7'])\n",
      "Unit count: 16\n",
      "Average number of units per annotator: 5.333333333333333\n",
      "Average units lengths: 6.8125\n"
     ]
    }
   ],
   "source": [
    "print(f\"All annotators: {continuum.annotators}\")\n",
    "print(f\"All categories: {continuum.categories}\")\n",
    "print(f\"Unit count: {continuum.num_units}\")\n",
    "print(f\"Average number of units per annotator: {continuum.avg_num_annotations_per_annotator}\")\n",
    "print(f\"Average units lengths: {continuum.avg_length_unit}\")"
   ]
  },
  {
   "cell_type": "markdown",
   "metadata": {
    "pycharm": {
     "name": "#%% md\n"
    }
   },
   "source": [
    "Enough playing around. Let's get down to business and actually do what you probably\n",
    "came here for: computing the Gamma Inter-annotator agreement.\n",
    "For that, we'll use a \"combined categorical dissimilarity\", which is, simply put,\n",
    "a dissimilarity that measures both the temporal and categorical differences between\n",
    "annotated units (for two different annotators from the continuum).\n",
    "\n",
    "We'll also ask for 30 random continua to be sampled in the Gamma measure's\n",
    "chance estimation."
   ]
  },
  {
   "cell_type": "code",
   "execution_count": 4,
   "metadata": {
    "pycharm": {
     "name": "#%%\n"
    }
   },
   "outputs": [
    {
     "name": "stdout",
     "output_type": "stream",
     "text": [
      "The gamma agreement is 0.45602743577208105\n"
     ]
    }
   ],
   "source": [
    "from pygamma_agreement import CombinedCategoricalDissimilarity, CategoricalDissimilarity\n",
    "\n",
    "cat_dissim = CategoricalDissimilarity(continuum.categories, delta_empty=1)\n",
    "dissimilarity = CombinedCategoricalDissimilarity(cat_dissim=cat_dissim)\n",
    "\n",
    "gamma_results = continuum.compute_gamma(dissimilarity,\n",
    "                                        n_samples=30)\n",
    "print(f\"The gamma agreement is {gamma_results.gamma}\")"
   ]
  },
  {
   "cell_type": "markdown",
   "metadata": {
    "pycharm": {
     "name": "#%% md\n"
    }
   },
   "source": [
    "We can also retrieve the best alignment for that continuum. This is the\n",
    "list of per-annotator tuples of units that has the lowest _disorder_\n",
    "(intuitively, when units from different annotators are grouped in tuples\n",
    "in the best possible way):"
   ]
  },
  {
   "cell_type": "code",
   "execution_count": 5,
   "metadata": {
    "pycharm": {
     "name": "#%%\n"
    }
   },
   "outputs": [
    {
     "data": {
      "text/plain": "<pygamma_agreement.alignment.Alignment at 0x7ff8d9899880>",
      "image/png": "[encoded data removed]"
     },
     "execution_count": 5,
     "metadata": {},
     "output_type": "execute_result"
    }
   ],
   "source": [
    "best_alignment = continuum.get_best_alignment(dissimilarity)\n",
    "best_alignment"
   ]
  },
  {
   "cell_type": "markdown",
   "metadata": {
    "pycharm": {
     "name": "#%% md\n"
    }
   },
   "source": [
    "Up until now, we used a very simple and very short example file. All the\n",
    "gamma computations should have been pretty fast. However, computing the gamma\n",
    "measure can be quite costly for bigger files. Let's re-run the gamma measure\n",
    "on some bigger files, as to give you a better sense of the time it can take\n",
    "for larger files.\n",
    "\n",
    "We'll also be using the `precision_level` parameter. The closer it is to 0,\n",
    "the more precise our measure of the gamma will be (albeit more costly)."
   ]
  },
  {
   "cell_type": "code",
   "execution_count": 6,
   "metadata": {
    "pycharm": {
     "name": "#%%\n"
    }
   },
   "outputs": [
    {
     "name": "stdout",
     "output_type": "stream",
     "text": [
      "Took 0.6886322498321533s for ../tests/data/AlexPaulSuzan.csv\n",
      "Had to sample 251 continuua\n",
      "Gamma is 0.4576345488557345 (with estimation range (0.45215610995528743, 0.46300450381755887))\n",
      "Took 1.8835525512695312s for ../tests/data/annotation_dalton.csv\n",
      "Had to sample 663 continuua\n",
      "Gamma is 0.5849015404131271 (with estimation range (0.5807086266799264, 0.5890114261516111))\n",
      "Took 52.51757884025574s for ../tests/data/2by1000.csv\n",
      "Had to sample 320 continuua\n",
      "Gamma is 0.40411895266009046 (with estimation range (0.3980999521819095, 0.41001876500999057))\n"
     ]
    }
   ],
   "source": [
    "from time import time\n",
    "\n",
    "files = [\n",
    "    \"../tests/data/AlexPaulSuzan.csv\",\n",
    "    \"../tests/data/annotation_dalton.csv\",\n",
    "    \"../tests/data/2by1000.csv\",\n",
    "]\n",
    "\n",
    "for file in files:\n",
    "    start_time = time()\n",
    "    continuum = Continuum.from_csv(file)\n",
    "    cat_dissim = CategoricalDissimilarity(continuum.categories, delta_empty=1)\n",
    "    dissimilarity = CombinedCategoricalDissimilarity(alpha=3, beta=1, delta_empty=1.0, cat_dissim=cat_dissim)\n",
    "    gamma_results = continuum.compute_gamma(dissimilarity,\n",
    "                                            n_samples=30,\n",
    "                                            precision_level=0.01)\n",
    "    end_time = time()\n",
    "    print(f\"Took {end_time - start_time}s for {file}\")\n",
    "    print(f\"Had to sample {gamma_results.n_samples} continuua\")\n",
    "    print(f\"Gamma is {gamma_results.gamma} (with estimation range {gamma_results.approx_gamma_range})\")"
   ]
  }
 ],
 "metadata": {
  "kernelspec": {
   "display_name": "Python 3",
   "language": "python",
   "name": "python3"
  },
  "language_info": {
   "codemirror_mode": {
    "name": "ipython",
    "version": 3
   },
   "file_extension": ".py",
   "mimetype": "text/x-python",
   "name": "python",
   "nbconvert_exporter": "python",
   "pygments_lexer": "ipython3",
   "version": "3.6.9"
  }
 },
 "nbformat": 4,
 "nbformat_minor": 1
}