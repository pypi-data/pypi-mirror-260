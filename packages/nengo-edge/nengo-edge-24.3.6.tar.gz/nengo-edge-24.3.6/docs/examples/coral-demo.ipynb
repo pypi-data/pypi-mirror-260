{
 "cells": [
  {
   "attachments": {},
   "cell_type": "markdown",
   "id": "6f88ba99",
   "metadata": {},
   "source": [
    "# Using the NengoEdge Coral Runner\n",
    "\n",
    "In this example we will walk through loading and running a model exported from NengoEdge\n",
    "that's been uniquely configured to run on Coral's edge TPU dev board. The goal of this\n",
    "demo is to provide a template for you to make your own custom TPU accelerated\n",
    "applications using the NengoEdge runner."
   ]
  },
  {
   "attachments": {},
   "cell_type": "markdown",
   "id": "b36a7fbb",
   "metadata": {},
   "source": [
    "## Installation\n",
    "\n",
    "First, install NengoEdge tools using\n",
    "[these instructions](https://www.nengo.ai/nengo-edge/developers.html).\n",
    "Feel free to skip the Tensorflow step since we won't need it for this\n",
    "runner.\n",
    "\n",
    "For the Coral example, it's assumed that you have completed the Coral.ai\n",
    "[getting started guide](https://coral.ai/docs/dev-board/get-started/) such that,\n",
    "\n",
    "- The `tflite_runtime` Python package is installed on the board\n",
    "- The Edge TPU delegates are installed (e.g.`libedgetpu.so.1` for Linux systems)\n",
    "- You are able to ssh into your local board (e.g `ssh mendel@<CORAL_HOSTNAME>`; see\n",
    "  [tutorial](https://coral.ai/docs/dev-board/mdt/#connect-using-other-ssh-tools) if not\n",
    "  yet set up)"
   ]
  },
  {
   "attachments": {},
   "cell_type": "markdown",
   "id": "38218e2a",
   "metadata": {},
   "source": [
    "## Train a model in NengoEdge\n",
    "\n",
    "The first step is to train a model in NengoEdge for the **Coral Dev Board** hardware.\n",
    "See\n",
    "[this blog\n",
    "post](https://appliedbrainresearch.com/blog/fast-keyword-detection-with-lmus-on-gpu)\n",
    "for a detailed walkthrough on how to train such a model.\n",
    "\n",
    "## Export the trained model\n",
    "\n",
    "When exporting the model from NengoEdge you must choose the \"BINARY\" option to get a\n",
    "model targeted to run on the Edge TPU. The downloaded artifacts can be unpacked to a\n",
    "directory of your choice, and for the purpose of this demo we'll assume the contents\n",
    "have been unpacked to a directory called `coral_demo/`.\n",
    "\n",
    "Inside this directory you'll find two files:\n",
    "\n",
    "- `model_edgetpu.tflite`\n",
    "- `parameters.json`\n",
    "\n",
    "We'll create a `CoralRunner` that utilizes these artifacts.\n",
    "\n",
    "Note that if you are running this code locally, you will need to uncomment the\n",
    "`os.environ` line and update `<CORAL_HOSTNAME>` to point to the SSH hostname\n",
    "(see the Installation steps above)."
   ]
  },
  {
   "cell_type": "code",
   "execution_count": null,
   "id": "879ba6a2",
   "metadata": {},
   "outputs": [],
   "source": [
    "import os\n",
    "import numpy as np\n",
    "\n",
    "from nengo_edge import CoralRunner\n",
    "\n",
    "# os.environ[\"CORAL_HOSTNAME\"] = <CORAL_HOSTNAME>\n",
    "runner = CoralRunner(\n",
    "    directory=\"coral_demo\",\n",
    "    username=\"mendel\",\n",
    "    hostname=os.environ[\"CORAL_HOSTNAME\"],\n",
    ")"
   ]
  },
  {
   "attachments": {},
   "cell_type": "markdown",
   "id": "3b77fde9",
   "metadata": {},
   "source": [
    "You will likely have particular audio inputs you are interested in identifying with the\n",
    "edge key word spotting model, but we'll showcase the general run steps assuming a random\n",
    "signal."
   ]
  },
  {
   "cell_type": "code",
   "execution_count": null,
   "id": "10a42836",
   "metadata": {},
   "outputs": [],
   "source": [
    "audio_inputs = np.random.uniform(\n",
    "    -1, 1, (1, runner.preprocessing[\"sample_rate\"])\n",
    ").astype(\"float32\")\n",
    "\n",
    "# Keyword labels for model outputs\n",
    "labels = [\n",
    "    \"<silence>\",\n",
    "    \"<unknown>\",\n",
    "    \"yes\",\n",
    "    \"no\",\n",
    "    \"up\",\n",
    "    \"down\",\n",
    "    \"left\",\n",
    "    \"right\",\n",
    "    \"on\",\n",
    "    \"off\",\n",
    "    \"stop\",\n",
    "    \"go\",\n",
    "]"
   ]
  },
  {
   "attachments": {},
   "cell_type": "markdown",
   "id": "f131ede6",
   "metadata": {},
   "source": [
    "And finally we can run the model using the Coral device."
   ]
  },
  {
   "cell_type": "code",
   "execution_count": null,
   "id": "19a21676",
   "metadata": {},
   "outputs": [],
   "source": [
    "outputs = runner.run(audio_inputs)\n",
    "pred_label = np.argmax(outputs)\n",
    "\n",
    "print(f\"Predicted keyword: {labels[pred_label]}\")"
   ]
  },
  {
   "attachments": {},
   "cell_type": "markdown",
   "id": "53be66c2",
   "metadata": {},
   "source": [
    "Since we used a random audio sample here and the model was trained on real audio\n",
    "samples, it's likely this particular classification will\n",
    "result in a random label. Note that the first `runner.run(inputs)` call will copy\n",
    "over necessary runtime files that persist for the entire session. Subsequent calls to\n",
    "run will only copy inputs and outputs to/from the Coral board. To reset this behaviour,\n",
    "run `runner.reset()`. You'll notice that in this example we only ran the model on a\n",
    "single batch of inputs but the runner also supports batched inputs.\n",
    "\n",
    "That's it! You're now set to take this runner into your own applications."
   ]
  }
 ],
 "metadata": {
  "language_info": {
   "name": "python",
   "pygments_lexer": "ipython3"
  }
 },
 "nbformat": 4,
 "nbformat_minor": 5
}
