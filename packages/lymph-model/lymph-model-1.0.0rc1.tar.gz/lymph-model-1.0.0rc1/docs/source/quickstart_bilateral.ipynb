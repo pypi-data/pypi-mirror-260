{
 "cells": [
  {
   "cell_type": "code",
   "execution_count": null,
   "metadata": {},
   "outputs": [],
   "source": [
    "import lymph"
   ]
  },
  {
   "cell_type": "code",
   "execution_count": null,
   "metadata": {},
   "outputs": [],
   "source": [
    "graph_dict = {\n",
    "    ('tumor', 'T')  : ['I', 'II', 'III', 'IV'], \n",
    "    ('lnl'  , 'I')  : ['II'], \n",
    "    ('lnl'  , 'II') : ['III'], \n",
    "    ('lnl'  , 'III'): ['IV'], \n",
    "    ('lnl'  , 'IV') : []\n",
    "}"
   ]
  },
  {
   "cell_type": "code",
   "execution_count": null,
   "metadata": {},
   "outputs": [],
   "source": [
    "model = lymph.models.Bilateral(graph_dict)\n",
    "model"
   ]
  },
  {
   "cell_type": "code",
   "execution_count": null,
   "metadata": {},
   "outputs": [],
   "source": [
    "model.set_params(spread=0.123)\n",
    "model.contra.graph.edges[\"ItoII\"].get_params(\"spread\")"
   ]
  },
  {
   "cell_type": "code",
   "execution_count": null,
   "metadata": {},
   "outputs": [],
   "source": [
    "model.set_params(ipsi_TtoIII_spread=0.234)\n",
    "model.get_params(as_dict=True)"
   ]
  },
  {
   "cell_type": "code",
   "execution_count": null,
   "metadata": {},
   "outputs": [],
   "source": [
    "model.set_modality(\"MRI\", spec=0.63, sens=0.81)\n",
    "model.set_modality(\"PET\", spec=0.86, sens=0.79)\n",
    "model.get_all_modalities()"
   ]
  },
  {
   "cell_type": "code",
   "execution_count": null,
   "metadata": {},
   "outputs": [],
   "source": [
    "print(model.get_modality(\"PET\").confusion_matrix)"
   ]
  },
  {
   "cell_type": "code",
   "execution_count": null,
   "metadata": {},
   "outputs": [],
   "source": [
    "import pandas as pd\n",
    "\n",
    "dataset_url = \"https://raw.githubusercontent.com/rmnldwg/lydata/main/2021-usz-oropharynx/data.csv\"\n",
    "example_cols = [\n",
    "    (\"patient\", \"#\", \"age\"),\n",
    "    (\"patient\", \"#\", \"hpv_status\"),\n",
    "    (\"tumor\", \"1\", \"t_stage\"),\n",
    "    (\"PET\", \"ipsi\", \"I\"),\n",
    "    (\"PET\", \"ipsi\", \"II\"),\n",
    "    (\"PET\", \"ipsi\", \"III\"),\n",
    "    (\"PET\", \"ipsi\", \"IV\"),\n",
    "    (\"MRI\", \"ipsi\", \"I\"),\n",
    "    (\"MRI\", \"ipsi\", \"II\"),\n",
    "    (\"MRI\", \"ipsi\", \"III\"),\n",
    "    (\"MRI\", \"ipsi\", \"IV\"),\n",
    "]\n",
    "\n",
    "usz_oropharynx = pd.read_csv(dataset_url, header=[0,1,2])\n",
    "usz_oropharynx[example_cols]"
   ]
  },
  {
   "cell_type": "code",
   "execution_count": null,
   "metadata": {},
   "outputs": [],
   "source": [
    "model.replace_all_modalities({})\n",
    "model.set_modality(\"PET\", spec=0.86, sens=0.79)"
   ]
  },
  {
   "cell_type": "code",
   "execution_count": null,
   "metadata": {},
   "outputs": [],
   "source": [
    "model.load_patient_data(usz_oropharynx)\n",
    "model.ipsi.patient_data[\"_model\"]"
   ]
  },
  {
   "cell_type": "code",
   "execution_count": null,
   "metadata": {},
   "outputs": [],
   "source": [
    "model.contra.patient_data[\"_model\"]"
   ]
  },
  {
   "cell_type": "code",
   "execution_count": null,
   "metadata": {},
   "outputs": [],
   "source": [
    "import numpy as np\n",
    "import scipy as sp\n",
    "import matplotlib.pyplot as plt\n",
    "\n",
    "max_time = model.max_time\n",
    "time_steps = np.arange(max_time+1)\n",
    "p = 0.4\n",
    "\n",
    "early_prior = sp.stats.binom.pmf(time_steps, max_time, p)\n",
    "model.set_distribution(\"early\", early_prior)"
   ]
  },
  {
   "cell_type": "code",
   "execution_count": null,
   "metadata": {},
   "outputs": [],
   "source": [
    "def late_binomial(support: np.ndarray, p: float = 0.5) -> np.ndarray:\n",
    "    \"\"\"Parametrized binomial distribution.\"\"\"\n",
    "    return sp.stats.binom.pmf(support, n=support[-1], p=p)"
   ]
  },
  {
   "cell_type": "code",
   "execution_count": null,
   "metadata": {},
   "outputs": [],
   "source": [
    "model.set_distribution(\"late\", late_binomial)\n",
    "params_dict = model.get_params(as_dict=True, as_flat=True)\n",
    "params_dict"
   ]
  },
  {
   "cell_type": "code",
   "execution_count": null,
   "metadata": {},
   "outputs": [],
   "source": [
    "rng = np.random.default_rng(42)\n",
    "test_probabilities = {p: rng.random() for p in params_dict}\n",
    "\n",
    "llh = model.likelihood(given_params=test_probabilities, log=True)\n",
    "ipsi_llh = model.ipsi.likelihood(log=True)\n",
    "contra_llh = model.contra.likelihood(log=True)\n",
    "\n",
    "print(f\"log-likelihood is {ipsi_llh:.2f} + {contra_llh:.2f} = {llh:.2f}\")"
   ]
  }
 ],
 "metadata": {
  "kernelspec": {
   "display_name": ".venv",
   "language": "python",
   "name": "python3"
  },
  "language_info": {
   "codemirror_mode": {
    "name": "ipython",
    "version": 3
   },
   "file_extension": ".py",
   "mimetype": "text/x-python",
   "name": "python",
   "nbconvert_exporter": "python",
   "pygments_lexer": "ipython3",
   "version": "3.10.12"
  }
 },
 "nbformat": 4,
 "nbformat_minor": 2
}
