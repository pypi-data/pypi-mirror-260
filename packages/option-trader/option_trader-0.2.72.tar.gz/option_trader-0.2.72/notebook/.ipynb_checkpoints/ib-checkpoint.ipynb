{
 "cells": [
  {
   "cell_type": "markdown",
   "id": "f168e169",
   "metadata": {},
   "source": [
    "Here are a few relevant projects related to machine learning in option trading that you can find on GitLab:\n",
    "\n",
    "Option Pricing and Greeks with Python:\n",
    "This project provides an implementation of the Black-Scholes model for option pricing in Python. It also includes code for calculating option Greeks, such as delta, gamma, and theta. The code is well-documented and can be easily adapted for different use cases.\n",
    "Link: https://gitlab.com/snippets/2043283\n",
    "\n",
    "Reinforcement Learning for Option Trading:\n",
    "This project uses reinforcement learning to develop a trading strategy for options. The agent learns to make decisions about buying and selling options based on historical data and feedback from the market. The code includes a detailed explanation of the reinforcement learning algorithm and can be used as a starting point for building your own trading strategy.\n",
    "Link: https://gitlab.com/pravin1220/reinforcement-learning-for-option-trading\n",
    "\n",
    "Predicting Option Prices with Neural Networks:\n",
    "This project uses a neural network to predict the prices of options based on historical market data. The code includes a Jupyter notebook with step-by-step instructions for building and training the neural network. The notebook also includes code for visualizing the predictions and evaluating the model's accuracy.\n",
    "Link: https://gitlab.com/nadimbioinfo/predicting-option-prices-with-neural-networks\n",
    "\n",
    "Portfolio Optimization with Genetic Algorithms:\n",
    "This project uses a genetic algorithm to optimize a portfolio of options based on historical market data. The code includes an implementation of the genetic algorithm in Python, as well as a Jupyter notebook with examples of how to use the algorithm to optimize portfolios based on different criteria.\n",
    "Link: https://gitlab.com/panpanmade/portfolio-optimization-with-genetic-algorithms\n",
    "\n",
    "These are just a few examples of relevant projects related to machine learning in option trading that you can find on GitLab. There are many other projects available, depending on your interests and expertise."
   ]
  },
  {
   "cell_type": "code",
   "execution_count": null,
   "id": "34ee5ba0",
   "metadata": {},
   "outputs": [],
   "source": [
    "import sys\n",
    "\n",
    "sys.path.append(r'\\Users\\jimhu\\option_trader\\src')\n",
    "    \n",
    "from tradingBot.excel import accountBook as act_wb\n",
    "from tradingBot.excel import watchListBook as watch_wb\n",
    "from tradingBot.settings import tradeConfig as cf\n",
    "from tradingBot.consts import strategy as Strategy\n",
    "from tradingBot.settings.tradeConfig import entryCrit, riskManager, marketCondition, runtimeConfig\n",
    "from tradingBot.excel import accountBook as act_wb\n",
    "\n",
    "import logging\n",
    "import logging.config\n",
    "\n",
    "LOGGING = {\n",
    "    'version': 1,\n",
    "    'disable_existing_loggers': False,\n",
    "    'formatters': {\n",
    "        'simple': {\n",
    "            'format': '%(levelname)s: %(message)s'\n",
    "        },\n",
    "    },\n",
    "    'handlers': {\n",
    "        'console': {\n",
    "            'level': 'DEBUG',\n",
    "            'class': 'logging.StreamHandler',\n",
    "        },\n",
    "    },\n",
    "    'loggers': {\n",
    "        '': {\n",
    "            'level': 'INFO',\n",
    "            'handlers': ['console'],\n",
    "        },\n",
    "    },\n",
    "}\n",
    "\n",
    "logging.config.dictConfig(LOGGING)\n",
    "\n",
    "import warnings\n",
    "\n",
    "warnings.filterwarnings(\"ignore\")"
   ]
  },
  {
   "cell_type": "code",
   "execution_count": null,
   "id": "ae539516",
   "metadata": {},
   "outputs": [],
   "source": [
    "risk_mgr = riskManager()\n",
    "\n",
    "risk_mgr.stop_loss_percent = 50\n",
    "risk_mgr.stop_gain_percent = 100\n",
    "risk_mgr.close_days_before_earning = 1\n",
    "risk_mgr.close_days_before_expire = 1\n",
    "risk_mgr.open_min_days_to_earning = 4\n",
    "risk_mgr.open_min_days_to_expire = 4\n",
    "risk_mgr.max_option_positions = 10\n",
    "risk_mgr.max_loss_per_position = 1500\n",
    "                       \n",
    "entry_crit = entryCrit()\n",
    "\n",
    "entry_crit.max_rating = 1.8\n",
    "\n",
    "runtime_config = runtimeConfig()\n",
    "runtime_config.init_balance = 100000\n",
    "\n",
    "market_condition = marketCondition()"
   ]
  },
  {
   "cell_type": "code",
   "execution_count": null,
   "id": "b7569c9a",
   "metadata": {},
   "outputs": [],
   "source": [
    "#logging.basicConfig(level=logging.DEBUG)\n",
    "\n",
    "data_dir = r'C:\\Users\\jimhu\\option_trader\\data\\charts'\n",
    "\n",
    "wb_file_path = r'C:\\Users\\jimhu\\option_trader\\data\\excell\\jihuang.xlsm' \n",
    "\n",
    "watchBook = watch_wb.watchListBook(wb_file_path, data_dir)\n",
    "\n",
    "watch_list = watchBook.get_all_watch_list()\n"
   ]
  },
  {
   "cell_type": "code",
   "execution_count": null,
   "id": "20c95d42",
   "metadata": {},
   "outputs": [],
   "source": []
  },
  {
   "cell_type": "code",
   "execution_count": null,
   "id": "6643ed26",
   "metadata": {},
   "outputs": [],
   "source": [
    "#SPREAD\n",
    "spread_acc_file_path = r'C:\\Users\\jimhu\\option_trader\\data\\excell\\jihuang-spread.xlsm'\n",
    "spread_strategy_list = [Strategy.CREDIT_PUT_SPREAD, Strategy.DEBIT_PUT_SPREAD, Strategy.CREDIT_CALL_SPREAD, Strategy.DEBIT_PUT_SPREAD]\n",
    "\n",
    "#IRON CONDOR\n",
    "condor_acc_file_path = r'C:\\Users\\jimhu\\option_trader\\data\\excell\\jihuang-condor.xlsm'\n",
    "condor_strategy_list = [Strategy.CREDIT_IRON_CONDOR, Strategy.DEBIT_IRON_CONDOR]\n",
    "\n",
    "#Butterfly\n",
    "butterfly_acc_file_path = r'C:\\Users\\jimhu\\option_trader\\data\\excell\\jihuang-butterfly.xlsm'\n",
    "butterfly_strategy_list = [Strategy.CREDIT_CALL_BUTTERFLY, Strategy.CREDIT_PUT_BUTTERFLY, Strategy.DEBIT_CALL_BUTTERFLY, Strategy.DEBIT_PUT_BUTTERFLY, Strategy.IRON_BUTTERFLY, Strategy.REVERSE_IRON_BUTTERFLY]\n"
   ]
  },
  {
   "cell_type": "code",
   "execution_count": null,
   "id": "e6e44d76",
   "metadata": {},
   "outputs": [],
   "source": [
    "spread_accountBook = act_wb.accountBook(file_path=spread_acc_file_path,\n",
    "                                 risk_mgr=risk_mgr, \n",
    "                                 entry_crit = entry_crit,\n",
    "                                 runtime_config = runtime_config,\n",
    "                                 market_condition = market_condition,\n",
    "                                 strategy_list=spread_strategy_list)\n",
    "\n",
    "condor_accountBook = act_wb.accountBook(file_path=condor_acc_file_path,\n",
    "                                 risk_mgr=risk_mgr, \n",
    "                                 entry_crit = entry_crit,\n",
    "                                 runtime_config = runtime_config,\n",
    "                                 market_condition = market_condition,\n",
    "                                 strategy_list=condor_strategy_list)\n",
    "\n",
    "butterfly_accountBook = act_wb.accountBook(file_path=butterfly_acc_file_path,\n",
    "                                 risk_mgr=risk_mgr, \n",
    "                                 entry_crit = entry_crit,\n",
    "                                 runtime_config = runtime_config,\n",
    "                                 market_condition = market_condition,\n",
    "                                 strategy_list=butterfly_strategy_list)"
   ]
  },
  {
   "cell_type": "code",
   "execution_count": null,
   "id": "dd662063",
   "metadata": {
    "scrolled": false
   },
   "outputs": [],
   "source": [
    "condor_accountBook.update_all_strategy_positions()\n",
    "#butterfly_accountBook.update_all_strategy_positions()\n",
    "#spread_accountBook.update_all_strategy_positions()"
   ]
  },
  {
   "cell_type": "code",
   "execution_count": null,
   "id": "038e3a3b",
   "metadata": {},
   "outputs": [],
   "source": [
    "spread_accountBook.try_stop_strategy_positions()\n",
    "condor_accountBook.try_stop_strategy_positions()\n",
    "butterfly_accountBook.try_stop_strategy_positions()"
   ]
  },
  {
   "cell_type": "code",
   "execution_count": null,
   "id": "e4a82b1d",
   "metadata": {},
   "outputs": [],
   "source": [
    "from tradingBot.optionPosition import iron_condor as ic\n",
    "\n",
    "q = ic.iron_condor_position('AAPL', entry_crit, runtime_config)\n",
    "dfi = q.get_positions(condor_strategy_list)"
   ]
  },
  {
   "cell_type": "code",
   "execution_count": null,
   "id": "1f4b43fa",
   "metadata": {
    "scrolled": false
   },
   "outputs": [],
   "source": [
    "from tradingBot.excel import watchListBook as wb\n",
    "\n",
    "watchBook = wb.watchListBook(wb_file_path, data_dir)\n",
    "\n",
    "#watchBook.refresh_one_watch_list('Software', update_TD=True)\n",
    "#watchBook.refresh_one_watch_list('Semi', update_TD=True)\n",
    "#watchBook.refresh_one_watch_list('Foods', update_TD=True)\n",
    "#watchBook.refresh_one_watch_list('Medical', update_TD=True)\n",
    "#watchBook.refresh_one_watch_list('Travel', update_TD=True)\n",
    "#watchBook.refresh_one_watch_list('Financial', update_TD=True)\n",
    "#watchBook.refresh_one_watch_list('Retail', update_TD=True)\n",
    "#watchBook.refresh_one_watch_list('Energy', update_TD=True)\n",
    "#watchBook.refresh_one_watch_list('Manufacture', update_TD=True)\n",
    "#watchBook.refresh_one_watch_list('ETF', update_TD=True)\n",
    "\n",
    "watchBook.refresh_all_watch_list(update_TD=True)"
   ]
  },
  {
   "cell_type": "code",
   "execution_count": null,
   "id": "b58f11d2",
   "metadata": {},
   "outputs": [],
   "source": [
    "###############################################\n",
    "# get option positions for all watch list     #\n",
    "###############################################"
   ]
  },
  {
   "cell_type": "code",
   "execution_count": null,
   "id": "7de6aac1",
   "metadata": {},
   "outputs": [],
   "source": [
    "from tradingBot.excel import watchListBook as wb\n",
    "from tradingBot.excel import positionBook as pb\n",
    "\n",
    "data_dir = r'C:\\Users\\jimhu\\option_trader\\data\\charts'\n",
    "\n",
    "acc_file_path = r'C:\\Users\\jimhu\\option_trader\\data\\excell\\jihuang.xlsm'\n",
    "\n",
    "watchBook = wb.watchListBook(acc_file_path, data_dir)\n",
    "\n",
    "watch_list = watchBook.get_all_watch_list()\n",
    "\n",
    "position_file_path = r'C:\\Users\\jimhu\\option_trader\\data\\excell\\positions.xlsm'\n",
    "positionBook = pb.positionBook(file_path=position_file_path)\n",
    "\n",
    "positionBook.get_spread_positions(watch_list)\n",
    "#positionBook.get_iron_condor_positions(watch_list)\n",
    "#positionBook.get_butterfly_positions(watch_list)\n",
    "#positionBook.get_one_leg_positions(watch_list)"
   ]
  },
  {
   "cell_type": "code",
   "execution_count": null,
   "id": "96042317",
   "metadata": {},
   "outputs": [],
   "source": [
    "#https://polygon.io/dashboard\n"
   ]
  },
  {
   "cell_type": "code",
   "execution_count": null,
   "id": "c37289cb",
   "metadata": {},
   "outputs": [],
   "source": [
    "ticker = \"AAPL\"\n",
    "\n",
    "# List Aggregates (Bars)\n",
    "bars = client.get_aggs(ticker=ticker, multiplier=1, timespan=\"day\", from_=\"2023-01-09\", to=\"2023-01-10\")\n",
    "for bar in bars:\n",
    "    print(bar)\n",
    "\n",
    "# Get Last Trade\n",
    "trade = client.get_last_trade(ticker=ticker)\n",
    "print(trade)\n",
    "\n",
    "# List Trades\n",
    "trades = client.list_trades(ticker=ticker, timestamp=\"2022-01-04\")\n",
    "for trade in trades:\n",
    "    print(trade)\n",
    "\n",
    "# Get Last Quote\n",
    "quote = client.get_last_quote(ticker=ticker)\n",
    "print(quote)\n",
    "\n",
    "# List Quotes\n",
    "quotes = client.list_quotes(ticker=ticker, timestamp=\"2022-01-04\")\n",
    "for quote in quotes:\n",
    "    print(quote)"
   ]
  },
  {
   "cell_type": "code",
   "execution_count": null,
   "id": "d9453fb9",
   "metadata": {},
   "outputs": [],
   "source": [
    "##############################################\n",
    "# get option positions for given symbols     #\n",
    "##############################################"
   ]
  },
  {
   "cell_type": "code",
   "execution_count": null,
   "id": "f6599faf",
   "metadata": {
    "scrolled": true
   },
   "outputs": [],
   "source": [
    "import logging\n",
    "logging.disable(logging.DEBUG)\n",
    "\n",
    "from tradingBot.excel import positionBook as pb\n",
    "\n",
    "myBook = pb.positionBook()\n",
    "myBook.get_position_candidate(['TLT', 'SHY'])"
   ]
  },
  {
   "cell_type": "code",
   "execution_count": null,
   "id": "bb395c3a",
   "metadata": {},
   "outputs": [],
   "source": [
    "############################\n",
    "# update option positions  #\n",
    "#############################"
   ]
  },
  {
   "cell_type": "code",
   "execution_count": null,
   "id": "7bf4b0bd",
   "metadata": {},
   "outputs": [],
   "source": [
    "import logging\n",
    "logging.disable(logging.DEBUG)\n",
    "\n",
    "from tradingBot.excel import positionBook as pb\n",
    "from tradingBot.settings.tradeConfig import entryCrit, riskManager, marketCondition, runtimeConfig\n",
    "\n",
    "risk_mgr = riskManager()\n",
    "\n",
    "risk_mgr.stop_loss_percent = 50\n",
    "risk_mgr.stop_gain_percent = 100\n",
    "risk_mgr.close_days_before_earning = 1\n",
    "risk_mgr.close_days_before_expire = 1\n",
    "risk_mgr.open_min_days_to_earning = 4\n",
    "risk_mgr.open_min_days_to_expire = 4\n",
    "risk_mgr.max_option_positions = 10\n",
    "risk_mgr.max_loss_per_position = 1500\n",
    "\n",
    "position_file_path = r'C:\\Users\\jimhu\\option_trader\\data\\excell\\positions.xlsm'\n",
    "positionBook = pb.positionBook(file_path=position_file_path)\n",
    "\n",
    "positionBook.update_quotes('Iron Condor 2023-04-18', risk_mgr=risk_mgr)"
   ]
  },
  {
   "cell_type": "code",
   "execution_count": null,
   "id": "3fb2f521",
   "metadata": {},
   "outputs": [],
   "source": [
    "not False"
   ]
  },
  {
   "cell_type": "code",
   "execution_count": null,
   "id": "d80acda0",
   "metadata": {},
   "outputs": [],
   "source": [
    "###########################################################\n",
    "# backtest all strategies for all symbols in watchlist    #\n",
    "###########################################################"
   ]
  },
  {
   "cell_type": "code",
   "execution_count": null,
   "id": "2c79e99e",
   "metadata": {},
   "outputs": [],
   "source": [
    "from tradingBot.backtest.option.single_option import bt_single_option\n",
    "from tradingBot.backtest.option.spread import bt_spread\n",
    "from tradingBot.backtest.option.butterfly import bt_butterfly\n",
    "from tradingBot.backtest.option.credit_iron_condor import bt_credit_iron_condor\n",
    "\n",
    "strategy_list = [bt_single_option('Put',Credit=False), \n",
    "                 bt_single_option('Put'), \n",
    "                 bt_single_option('Call',Credit=False),\n",
    "                 bt_single_option('Call'), \n",
    "                 bt_butterfly(Type='Call', Credit=False),\n",
    "                 bt_butterfly(Type='Call', Credit=True),\n",
    "                 bt_butterfly(Type='Put', Credit=False), \n",
    "                 bt_butterfly(Type='Put', Credit=True),\n",
    "                 bt_butterfly(Type='Iron', Credit=False),\n",
    "                 bt_butterfly(Type='Iron', Credit=True),\n",
    "                 bt_credit_iron_condor(), \n",
    "                 bt_spread(Type='Call', Credit=True),\n",
    "                 bt_spread(Type='Call', Credit=False),\n",
    "                 bt_spread(Type='Put', Credit=True),\n",
    "                 bt_spread(Type='Put', Credit=False)]  \n",
    "\n",
    "watch_list = watchBook.get_all_watch_list()\n",
    "symbol_list = watch_list['Symbol'].to_list()\n",
    "\n",
    "from tradeBot.excel import backtestBook as bb\n",
    "\n",
    "backtest_file_path = r'C:\\Users\\jimhu\\option_trader\\assets\\static\\assets\\data\\backtest.xlsm' \n",
    "\n",
    "backtestBook = bb.backtestBook(backtest_file_path)\n",
    "today = date.today().strftime(\"%Y-%m-%d\")   \n",
    "backtestBook.backtest('all ' + today, symbol_list, strategy_list)"
   ]
  },
  {
   "cell_type": "code",
   "execution_count": null,
   "id": "d26e7bff",
   "metadata": {},
   "outputs": [],
   "source": []
  },
  {
   "cell_type": "code",
   "execution_count": null,
   "id": "e884e64d",
   "metadata": {},
   "outputs": [],
   "source": [
    "strategy_list = [bt_single_option('Put',Credit=False), \n",
    "                 bt_single_option('Put'), \n",
    "                 bt_single_option('Call',Credit=False),\n",
    "                 bt_single_option('Call'), \n",
    "                 bt_butterfly(Type='Call', Credit=False),\n",
    "                 bt_butterfly(Type='Call', Credit=True),\n",
    "                 bt_butterfly(Type='Put', Credit=False), \n",
    "                 bt_butterfly(Type='Put', Credit=True),\n",
    "                 bt_butterfly(Type='Iron', Credit=False),\n",
    "                 bt_butterfly(Type='Iron', Credit=True),\n",
    "                 bt_credit_iron_condor(), \n",
    "                 bt_spread(Type='Call', Credit=True),\n",
    "                 bt_spread(Type='Call', Credit=False),\n",
    "                 bt_spread(Type='Put', Credit=True),\n",
    "                 bt_spread(Type='Put', Credit=False)]  \n",
    "\n",
    "#back test monitor list\n",
    "acc_file_path = r'C:\\Users\\jimhu\\option_trader\\assets\\static\\assets\\data\\jihuang.xlsm' \n",
    "\n",
    "backtest_file_path = r'C:\\Users\\jimhu\\option_trader\\assets\\static\\assets\\data\\backtest.xlsm' \n",
    "\n",
    "acctLists = AccountWatchListBook(acc_file_path)\n",
    "\n",
    "watch_list = acctLists.get_watch_list('UpUp')\n",
    "\n",
    "symbol_list = watch_list[Fundamental_Sheet.SYMBOL_t].to_list()     \n",
    "\n",
    "backtester = BacktestBook(backtest_file_path)\n",
    "\n",
    "backtester.backtest('UpUp', symbol_list, strategy_list)"
   ]
  },
  {
   "cell_type": "code",
   "execution_count": null,
   "id": "1ff143b9",
   "metadata": {},
   "outputs": [],
   "source": []
  },
  {
   "cell_type": "code",
   "execution_count": null,
   "id": "6560fa24",
   "metadata": {},
   "outputs": [],
   "source": [
    "#loggiFng.disable(logging.INFO)\n",
    "logger.setLevel(logging.INFO)\n",
    "pb.update_quotes('One', watch_list)"
   ]
  },
  {
   "cell_type": "code",
   "execution_count": null,
   "id": "70ac9b3d",
   "metadata": {},
   "outputs": [],
   "source": [
    "from tradingBot.optionPosition import single_leg as sl \n",
    "from tradingBot.optionPosition import spread as sp\n",
    "from tradingBot.optionPosition import iron_condor as ic\n",
    "from tradingBot.optionPosition import butterfly as bf   \n",
    "from tradingBot.settings.tradeConfig import entryCrit\n",
    "from tradingBot.consts import strategy as Strategy\n",
    "\n",
    "symbol='ORCL'\n",
    "\n",
    "entry_crit = entryCrit()\n",
    "\n",
    "spread_pos = sp.spread_position(symbol, entry_crit=entry_crit)\n",
    "\n",
    "df = spread_pos.get_positions([Strategy.CREDIT_PUT_SPREAD, Strategy.DEBIT_PUT_SPREAD, Strategy.CREDIT_CALL_SPREAD, Strategy.DEBIT_PUT_SPREAD], max_days_to_expire=60)"
   ]
  },
  {
   "cell_type": "code",
   "execution_count": null,
   "id": "ac5f81ad",
   "metadata": {},
   "outputs": [],
   "source": [
    "df"
   ]
  },
  {
   "cell_type": "code",
   "execution_count": null,
   "id": "57c66691",
   "metadata": {},
   "outputs": [],
   "source": [
    "from tradingBot.optionPosition import single_leg as sl \n",
    "from tradingBot.optionPosition import spread as sp\n",
    "from tradingBot.optionPosition import iron_condor as ic\n",
    "from tradingBot.optionPosition import butterfly as bf   \n",
    "from tradingBot.settings.tradeConfig import entryCrit\n",
    "from tradingBot.consts import strategy as Strategy\n",
    "\n",
    "entry_crit = entryCrit()\n",
    "\n",
    "symbol='OKTA'\n",
    "iron_condor =ic.iron_condor_position(symbol, entry_crit)\n",
    "df = iron_condor.get_positions([Strategy.CREDIT_IRON_CONDOR, Strategy.DEBIT_IRON_CONDOR])"
   ]
  },
  {
   "cell_type": "code",
   "execution_count": null,
   "id": "4b591b7f",
   "metadata": {},
   "outputs": [],
   "source": []
  },
  {
   "cell_type": "code",
   "execution_count": null,
   "id": "dc6f4e57",
   "metadata": {},
   "outputs": [],
   "source": [
    "from tradingBot.optionPosition import single_leg as sl \n",
    "from tradingBot.optionPosition import spread as sp\n",
    "from tradingBot.optionPosition import iron_condor as ic\n",
    "from tradingBot.optionPosition import butterfly as bf   \n",
    "from tradingBot.settings.tradeConfig import entryCrit\n",
    "from tradingBot.consts import strategy as Strategy\n",
    "\n",
    "entry_crit = entryCrit()\n",
    "entry_crit.min_pnl = 0.5\n",
    "entry_crit.min_chance_of_win = 25 \n",
    "entry_crit.min_open_interest = 1\n",
    "entry_crit.min_opt_vol = 1 \n",
    "entry_crit.min_delta_for_long = 0\n",
    "entry_crit.max_delta_for_short = 1\n",
    "\n",
    "symbol='ORCL'\n",
    "\n",
    "strategys = [Strategy.CREDIT_CALL_BUTTERFLY, Strategy.CREDIT_PUT_BUTTERFLY, Strategy.DEBIT_CALL_BUTTERFLY, Strategy.DEBIT_PUT_BUTTERFLY, Strategy.IRON_BUTTERFLY, Strategy.REVERSE_IRON_BUTTERFLY]\n",
    "q =bf.butterfly_position(symbol, entry_crit)\n",
    "q.get_positions(strategys)"
   ]
  },
  {
   "cell_type": "code",
   "execution_count": null,
   "id": "91e0eb73",
   "metadata": {},
   "outputs": [],
   "source": []
  },
  {
   "cell_type": "code",
   "execution_count": null,
   "id": "5570b08b",
   "metadata": {},
   "outputs": [],
   "source": [
    "from sklearn.model_selection import train_test_split\n",
    "from sklearn.model_selection import cross_val_score\n",
    "from sklearn.model_selection import StratifiedKFold\n",
    "from sklearn.metrics import classification_report\n",
    "from sklearn.metrics import confusion_matrix\n",
    "from sklearn.metrics import accuracy_score\n",
    "from sklearn.linear_model import LogisticRegression\n",
    "from sklearn.tree import DecisionTreeClassifier\n",
    "from sklearn.neighbors import KNeighborsClassifier\n",
    "from sklearn.discriminant_analysis import LinearDiscriminantAnalysis\n",
    "from sklearn.naive_bayes import GaussianNB\n",
    "from sklearn.svm import SVC\n",
    "# Split-out validation dataset\n",
    "array = df1.values\n",
    "X = array[:,0:4]\n",
    "y = array[:,4]\n",
    "X_train, X_validation, Y_train, Y_validation = train_test_split(X, y, test_size=0.20, random_state=1)\n",
    "\n",
    "...\n",
    "# Spot Check Algorithms\n",
    "models = []\n",
    "models.append(('LR', LogisticRegression(solver='liblinear', multi_class='ovr')))\n",
    "models.append(('LDA', LinearDiscriminantAnalysis()))\n",
    "models.append(('KNN', KNeighborsClassifier()))\n",
    "models.append(('CART', DecisionTreeClassifier()))\n",
    "models.append(('NB', GaussianNB()))\n",
    "models.append(('SVM', SVC(gamma='auto')))\n",
    "# evaluate each model in turn\n",
    "results = []\n",
    "names = []\n",
    "for name, model in models:\n",
    "\tkfold = StratifiedKFold(n_splits=10, random_state=1, shuffle=True)\n",
    "\tcv_results = cross_val_score(model, X_train, Y_train, cv=kfold, scoring='accuracy')\n",
    "\tresults.append(cv_results)\n",
    "\tnames.append(name)\n",
    "\tprint('%s: %f (%f)' % (name, cv_results.mean(), cv_results.std()))"
   ]
  },
  {
   "cell_type": "markdown",
   "id": "d0f72403",
   "metadata": {},
   "source": []
  },
  {
   "cell_type": "code",
   "execution_count": 1,
   "id": "14c9c58b",
   "metadata": {},
   "outputs": [],
   "source": [
    "import sys\n",
    "\n",
    "sys.path.append(r'C:\\TWS API\\source\\pythonclient')\n",
    "                \n",
    "from ibapi import wrapper\n",
    "from ibapi.client import EClient\n",
    "from ibapi.utils import longMaxString\n",
    "from ibapi.utils import iswrapper\n",
    "\n"
   ]
  },
  {
   "cell_type": "code",
   "execution_count": null,
   "id": "67c42988",
   "metadata": {},
   "outputs": [],
   "source": []
  },
  {
   "cell_type": "code",
   "execution_count": null,
   "id": "770bc983",
   "metadata": {},
   "outputs": [],
   "source": []
  },
  {
   "cell_type": "code",
   "execution_count": null,
   "id": "d92aa27a",
   "metadata": {},
   "outputs": [],
   "source": []
  },
  {
   "cell_type": "code",
   "execution_count": null,
   "id": "572dc20f",
   "metadata": {},
   "outputs": [],
   "source": []
  },
  {
   "cell_type": "code",
   "execution_count": null,
   "id": "7697ee9b",
   "metadata": {},
   "outputs": [],
   "source": []
  }
 ],
 "metadata": {
  "kernelspec": {
   "display_name": "Python 3 (ipykernel)",
   "language": "python",
   "name": "python3"
  },
  "language_info": {
   "codemirror_mode": {
    "name": "ipython",
    "version": 3
   },
   "file_extension": ".py",
   "mimetype": "text/x-python",
   "name": "python",
   "nbconvert_exporter": "python",
   "pygments_lexer": "ipython3",
   "version": "3.11.3"
  }
 },
 "nbformat": 4,
 "nbformat_minor": 5
}
