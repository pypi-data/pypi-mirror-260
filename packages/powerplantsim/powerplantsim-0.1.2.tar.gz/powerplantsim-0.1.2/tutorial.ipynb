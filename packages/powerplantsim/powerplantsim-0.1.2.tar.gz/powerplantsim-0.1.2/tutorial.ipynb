{
 "cells": [
  {
   "cell_type": "markdown",
   "source": [
    "## 1. Create a Plant\n",
    "\n",
    "The main class of `powerplantsim` is `Plant`, which defines a new power plant to simulate.\n",
    "Its only parameter is the time horizon of the simulation; in this case, since we are passing an integer, the result will be an empty power plant ready to be run for `horizon` time steps.\n"
   ],
   "metadata": {
    "collapsed": false
   },
   "id": "408e69110871d473"
  },
  {
   "cell_type": "code",
   "execution_count": 1,
   "id": "initial_id",
   "metadata": {
    "collapsed": true,
    "ExecuteTime": {
     "end_time": "2024-01-29T17:08:23.858428700Z",
     "start_time": "2024-01-29T17:08:21.904927800Z"
    }
   },
   "outputs": [
    {
     "name": "stdout",
     "output_type": "stream",
     "text": [
      "Plant('0X1A4B5D168F0'):\n",
      "  > Horiz: [0, 1, 2, 3, 4, 5, 6]\n",
      "  > Nodes: []\n",
      "  > Edges: []\n"
     ]
    }
   ],
   "source": [
    "import numpy as np\n",
    "import pandas as pd\n",
    "\n",
    "from powerplantsim import Plant\n",
    "\n",
    "plant = Plant(horizon=7)\n",
    "print(plant)"
   ]
  },
  {
   "cell_type": "markdown",
   "source": [
    "Rather than an integer value, it is also possible to pass a custom index. The constructor method accepts _lists_, _numpy arrays_, and _pandas series_.\n",
    "\n",
    "Additionally, it is possible to provide a custom `name` for the plant, and a `seed` value which is used to build an internal random number generator."
   ],
   "metadata": {
    "collapsed": false
   },
   "id": "537175d8ee17b307"
  },
  {
   "cell_type": "code",
   "outputs": [
    {
     "name": "stdout",
     "output_type": "stream",
     "text": [
      "Plant('List'):\n",
      "  > Horiz: [0, 1, 2, 3, 4, 5, 6]\n",
      "  > Nodes: []\n",
      "  > Edges: []\n",
      "\n",
      "Plant('Array'):\n",
      "  > Horiz: [0, 1, 2, 3, 4, 5, 6]\n",
      "  > Nodes: []\n",
      "  > Edges: []\n",
      "\n",
      "Plant('Series'):\n",
      "  > Horiz: [0, 1, 2, 3, 4, 5, 6]\n",
      "  > Nodes: []\n",
      "  > Edges: []\n"
     ]
    }
   ],
   "source": [
    "plant_list = Plant(horizon=[0, 1, 2, 3, 4, 5, 6], name='List', seed=1)\n",
    "print(plant_list)\n",
    "print()\n",
    "\n",
    "plant_array = Plant(horizon=np.arange(7), name='Array', seed=2)\n",
    "print(plant_array)\n",
    "print()\n",
    "\n",
    "plant_series = Plant(horizon=pd.Series(range(7)), name='Series', seed=3)\n",
    "print(plant_series)"
   ],
   "metadata": {
    "collapsed": false,
    "ExecuteTime": {
     "end_time": "2024-01-29T17:08:23.862591900Z",
     "start_time": "2024-01-29T17:08:23.851535500Z"
    }
   },
   "id": "689ef95ed64d6d09",
   "execution_count": 2
  },
  {
   "cell_type": "markdown",
   "source": [
    "## 2. Add Nodes\n",
    "\n",
    "A `Plant` instance contains three main kind of nodes:\n",
    "* _Extremities_, which can either supply or accept a single commodity;\n",
    "* _Machines_, which can transform a single input commodity into one or more output commodities;\n",
    "* _Storages_, which can store a single commodity.\n",
    "\n",
    "The way to add a new node is via the `add_<type>` method, i.e., `add_extremity`, `add_machine`, or `add_storage`."
   ],
   "metadata": {
    "collapsed": false
   },
   "id": "94a16d2002d22f5e"
  },
  {
   "cell_type": "markdown",
   "source": [
    "### 2.1. Suppliers\n",
    "\n",
    "A `Supplier` node is an extremity node that can supply a single commodity.\n",
    "In order to add a new `Supplier`, you need to use the `add_extremity` method with parameter `kind='supplier'`.\n",
    "The rest of the parameters are:\n",
    "* `name`, i.e., a unique identifier for the node in the plant;\n",
    "* `commodity`, i.e., the name of the commodity which is supplied by the node;\n",
    "* `predictions`, i.e., the vector of predicted prices for that commodity throughout the simulation;\n",
    "\n",
    "> Note: since here we are passing a single float value as predicted vector, this will be converted in the array `[1.0, 1.0, 1.0, 1.0, 1.0, 1.0, 1.0]` -- the length of the array is _7_, as many as are the time steps of our simulation."
   ],
   "metadata": {
    "collapsed": false
   },
   "id": "d1ec7edb4c4b6c5a"
  },
  {
   "cell_type": "code",
   "outputs": [
    {
     "data": {
      "text/plain": "Supplier('gas')"
     },
     "execution_count": 3,
     "metadata": {},
     "output_type": "execute_result"
    }
   ],
   "source": [
    "plant.add_extremity(\n",
    "    kind='supplier',\n",
    "    name='gas',\n",
    "    commodity='gas',\n",
    "    predictions=1.0\n",
    ")"
   ],
   "metadata": {
    "collapsed": false,
    "ExecuteTime": {
     "end_time": "2024-01-29T17:08:23.947585900Z",
     "start_time": "2024-01-29T17:08:23.865908100Z"
    }
   },
   "id": "4549540b4fea8593",
   "execution_count": 3
  },
  {
   "cell_type": "markdown",
   "source": [
    "Together with the predicted prices vector -- or constant --, it is possible to pass a variance model.\n",
    "\n",
    "The variance $\\Sigma$ is a custom distribution defining the difference between the predicted price $p_t$ and the actual value $v_t$ used in the simulation at time step $t$. This shift between prediction and value allows to model the intrinsic uncertainty of the problem, which usually relies on historical data to optimize the energetic plan of the power plant.\n",
    "\n",
    "More specifically, the actual value $v_t$ is computed as:\n",
    "$$v_t = p_t + \\sigma_t, \\sigma_t \\sim \\Sigma \\mid v_{\\{1:t-1\\}}$$\n",
    "namely, the distribution $\\Sigma$ can be conditioned on the actual values computed in previous time steps.\n",
    "\n",
    "> Note: from a programming perspective, the variance model is a function `f(rng, values)`, of which the actual values are the second parameter. The first parameter, instead, is a reference to the random number generator which is stored in the plant itself. It is advisable to use that random number generator instance to perform any random operation, in order to have completely reproducible results."
   ],
   "metadata": {
    "collapsed": false
   },
   "id": "49a9364b973c842c"
  },
  {
   "cell_type": "code",
   "outputs": [
    {
     "data": {
      "text/plain": "Supplier('elec')"
     },
     "execution_count": 4,
     "metadata": {},
     "output_type": "execute_result"
    }
   ],
   "source": [
    "plant.add_extremity(\n",
    "    kind='supplier',\n",
    "    name='elec',\n",
    "    commodity='elec',\n",
    "    predictions=[1.4, 0.8, 2.3, 3.2, 1.8, 2.1, 1.5],\n",
    "    variance=lambda rng, values: rng.normal(loc=0.0, scale=0.2)\n",
    ")"
   ],
   "metadata": {
    "collapsed": false,
    "ExecuteTime": {
     "end_time": "2024-01-29T17:08:23.949752500Z",
     "start_time": "2024-01-29T17:08:23.880665400Z"
    }
   },
   "id": "d07ce84db2f22de5",
   "execution_count": 4
  },
  {
   "cell_type": "markdown",
   "source": [
    "Every time a new node is added in the plant, this is not only returned by the `add_<type>` method, but also stored automatically within the plant itself.\n",
    "We can see indeed that our plant now contains the two nodes that we just added."
   ],
   "metadata": {
    "collapsed": false
   },
   "id": "4fc556f7fc73ef6c"
  },
  {
   "cell_type": "code",
   "outputs": [
    {
     "name": "stdout",
     "output_type": "stream",
     "text": [
      "Plant('0X1A4B5D168F0'):\n",
      "  > Horiz: [0, 1, 2, 3, 4, 5, 6]\n",
      "  > Nodes: [Supplier('gas'), Supplier('elec')]\n",
      "  > Edges: []\n"
     ]
    }
   ],
   "source": [
    "print(plant)"
   ],
   "metadata": {
    "collapsed": false,
    "ExecuteTime": {
     "end_time": "2024-01-29T17:08:23.953000800Z",
     "start_time": "2024-01-29T17:08:23.894726700Z"
    }
   },
   "id": "6f92b6160212aae",
   "execution_count": 5
  },
  {
   "cell_type": "markdown",
   "source": [
    "### 2.2. Machines\n",
    "\n",
    "A `Machine` node consumes a single commodity as input and produces one or more commodities as output.\n",
    "Other than the usual `name`, a machine node needs:\n",
    "* either a single or a list of `parents` that can provide its input commodity;\n",
    "* the name of the input `commodity`;\n",
    "* a `setpoint`, which defines the operative range of the machine;\n",
    "* the `inputs`, i.e., a list of input commodity flows paired with the setpoint;\n",
    "* the `outputs`, i.e., a list of flows paired with the setpoint and indexed by the name of the output commodity;"
   ],
   "metadata": {
    "collapsed": false
   },
   "id": "c1266008d21ce5f7"
  },
  {
   "cell_type": "code",
   "outputs": [
    {
     "data": {
      "text/plain": "Machine('boiler')"
     },
     "execution_count": 6,
     "metadata": {},
     "output_type": "execute_result"
    }
   ],
   "source": [
    "plant.add_machine(\n",
    "    name='boiler',\n",
    "    parents='gas',\n",
    "    commodity='gas',\n",
    "    setpoint=[0, 1],\n",
    "    inputs=[0, 100],\n",
    "    outputs={'heat': [0, 90]}\n",
    ")"
   ],
   "metadata": {
    "collapsed": false,
    "ExecuteTime": {
     "end_time": "2024-01-29T17:08:24.086064900Z",
     "start_time": "2024-01-29T17:08:23.919445200Z"
    }
   },
   "id": "7e3379f864a43ecf",
   "execution_count": 6
  },
  {
   "cell_type": "markdown",
   "source": [
    "Differently from `Supplier` nodes that are sources in the plant topology, `Machine` nodes must have parents.\n",
    "Indeed, when printing the plant after our machine is added, we can see that an edge between the machine and its parent is automatically included as well."
   ],
   "metadata": {
    "collapsed": false
   },
   "id": "e02d676cfd4370f"
  },
  {
   "cell_type": "code",
   "outputs": [
    {
     "name": "stdout",
     "output_type": "stream",
     "text": [
      "Plant('0X1A4B5D168F0'):\n",
      "  > Horiz: [0, 1, 2, 3, 4, 5, 6]\n",
      "  > Nodes: [Supplier('gas'), Supplier('elec'), Machine('boiler')]\n",
      "  > Edges: [('gas', 'boiler')]\n"
     ]
    }
   ],
   "source": [
    "print(plant)"
   ],
   "metadata": {
    "collapsed": false,
    "ExecuteTime": {
     "end_time": "2024-01-29T17:08:24.109867100Z",
     "start_time": "2024-01-29T17:08:23.940808900Z"
    }
   },
   "id": "3b2895f91c539344",
   "execution_count": 7
  },
  {
   "cell_type": "markdown",
   "source": [
    "Additionally, machines can be built with some additional parameters:\n",
    "* `discrete`, i.e., whether the setpoint of the machine is discrete or continuous;\n",
    "* `cost`, i.e., the cost of operating the machine during a time step;\n",
    "* `max_starting`, i.e., a tuple ($N$, $T$) specifying that the machine can be started at most $N$ times in the past $T$ time steps."
   ],
   "metadata": {
    "collapsed": false
   },
   "id": "3c4c2b91f4edfc4c"
  },
  {
   "cell_type": "code",
   "outputs": [
    {
     "data": {
      "text/plain": "Machine('cogen')"
     },
     "execution_count": 8,
     "metadata": {},
     "output_type": "execute_result"
    }
   ],
   "source": [
    "plant.add_machine(\n",
    "    name='cogen',\n",
    "    parents='gas',\n",
    "    commodity='gas',\n",
    "    setpoint=[0.5, 1],\n",
    "    inputs=[67.5, 135],\n",
    "    outputs={'heat': [27, 50], 'elec': [23, 50]},\n",
    "    discrete=True,\n",
    "    cost=2.0,\n",
    "    max_starting=(1, 3)\n",
    ")"
   ],
   "metadata": {
    "collapsed": false,
    "ExecuteTime": {
     "end_time": "2024-01-29T17:08:24.126269700Z",
     "start_time": "2024-01-29T17:08:23.965368700Z"
    }
   },
   "id": "e4de6ca4281420e9",
   "execution_count": 8
  },
  {
   "cell_type": "markdown",
   "source": [
    "And, eventually, both `Machine` and `Storage` nodes can have `min_flow` and `max_flow` parameters to define bounds for the minimum and maximum in all the edges coming from the parents."
   ],
   "metadata": {
    "collapsed": false
   },
   "id": "ceedc3e4286768c"
  },
  {
   "cell_type": "code",
   "outputs": [
    {
     "data": {
      "text/plain": "Machine('chiller')"
     },
     "execution_count": 9,
     "metadata": {},
     "output_type": "execute_result"
    }
   ],
   "source": [
    "plant.add_machine(\n",
    "    name='chiller',\n",
    "    parents=['elec', 'cogen'],\n",
    "    commodity='elec',\n",
    "    setpoint=[0, 1],\n",
    "    inputs=[0, 0.7],\n",
    "    outputs={'cool': [0, 2.0]},\n",
    "    min_flow=0.0,\n",
    "    max_flow=1.0\n",
    ")"
   ],
   "metadata": {
    "collapsed": false,
    "ExecuteTime": {
     "end_time": "2024-01-29T17:08:24.239331400Z",
     "start_time": "2024-01-29T17:08:23.974573700Z"
    }
   },
   "id": "c9925544bafad381",
   "execution_count": 9
  },
  {
   "cell_type": "markdown",
   "source": [
    "### 2.3. Storages\n",
    "\n",
    "A `Storage` node can store a single commodity, and it can be either charged or discharged in a single time step -- but not both.\n",
    "Additionally, storage nodes have:\n",
    "* a `capacity`, i.e., the maximal amount of commodity units that can be stored;\n",
    "* a `dissipation`, i.e., a parameter defining the amount of commodity units that gets dissipated every time step. Namely, given a storage amount $s_t$ and a dissipation $\\delta$, the amount in the following time step will be $s_{t + 1} = (1 - \\delta) * s_t$;\n",
    "* two optional floats of `charge_rate` and `discharge_rate` which defines the maximal charge and discharge rate in a single time step.\n"
   ],
   "metadata": {
    "collapsed": false
   },
   "id": "50cba89c7c83400d"
  },
  {
   "cell_type": "code",
   "outputs": [
    {
     "name": "stdout",
     "output_type": "stream",
     "text": [
      "Plant('0X1A4B5D168F0'):\n",
      "  > Horiz: [0, 1, 2, 3, 4, 5, 6]\n",
      "  > Nodes: [Supplier('gas'), Supplier('elec'), Machine('boiler'), Machine('chiller'), Machine('cogen'), Storage('storage')]\n",
      "  > Edges: [('gas', 'cogen'), ('elec', 'chiller'), ('cogen', 'chiller'), ('gas', 'boiler'), ('boiler', 'storage'), ('cogen', 'storage')]\n"
     ]
    }
   ],
   "source": [
    "plant.add_storage(\n",
    "    name='storage',\n",
    "    parents=['cogen', 'boiler'],\n",
    "    commodity='heat',\n",
    "    capacity=45,\n",
    "    dissipation=0.02,\n",
    "    charge_rate=10.0,\n",
    "    discharge_rate=5.0\n",
    ")"
   ],
   "metadata": {
    "collapsed": false,
    "ExecuteTime": {
     "end_time": "2024-01-29T17:08:24.242936900Z",
     "start_time": "2024-01-29T17:08:24.006955900Z"
    }
   },
   "id": "5e7ee0a5e2d40b8a",
   "execution_count": 10
  },
  {
   "cell_type": "markdown",
   "source": [
    "### 2.4. Clients\n",
    "\n",
    "A `Client` node is another type of extremity node that accepts a single commodity.\n",
    "The parameters of a `Client` node are the same as for a `Supplier` node, although for clients the `parents` need to be passed."
   ],
   "metadata": {
    "collapsed": false
   },
   "id": "5b7542e5f85428a8"
  },
  {
   "cell_type": "code",
   "outputs": [
    {
     "data": {
      "text/plain": "Customer('heat')"
     },
     "execution_count": 11,
     "metadata": {},
     "output_type": "execute_result"
    }
   ],
   "source": [
    "plant.add_extremity(\n",
    "    kind='customer',\n",
    "    name='heat',\n",
    "    commodity='heat',\n",
    "    parents=['cogen', 'boiler', 'storage'],\n",
    "    predictions=[50.0, 54.0, 58.2, 48.7, 53.0, 49.6, 51.8]\n",
    ")"
   ],
   "metadata": {
    "collapsed": false,
    "ExecuteTime": {
     "end_time": "2024-01-29T17:08:24.244021600Z",
     "start_time": "2024-01-29T17:08:24.019953900Z"
    }
   },
   "id": "8f13fbad18ce2e91",
   "execution_count": 11
  },
  {
   "cell_type": "markdown",
   "source": [
    "Moreover, a `Client` node can be of two different kinds: `customer` or `purchaser`.\n",
    "\n",
    "Their difference is that a `Customer` nodes **demands** a commodity while a `Purchaser` node can buy it.\n",
    "More specifically, the vector of `predictions` that are passed represent the node demands or the node buying prices, respectively.\n",
    "\n",
    "> Note: a demand automatically poses an upper bound in the total input flow for a `Customer` node, meaning that it is not possible to send more commodity than expected to that node.  "
   ],
   "metadata": {
    "collapsed": false
   },
   "id": "88e53fc958af734a"
  },
  {
   "cell_type": "code",
   "outputs": [
    {
     "data": {
      "text/plain": "Purchaser('grid')"
     },
     "execution_count": 12,
     "metadata": {},
     "output_type": "execute_result"
    }
   ],
   "source": [
    "plant.add_extremity(\n",
    "    kind='customer',\n",
    "    name='cool',\n",
    "    commodity='cool',\n",
    "    parents='chiller',\n",
    "    predictions=0.8,\n",
    "    variance=lambda rng, series: rng.normal(loc=0.0, scale=0.2)\n",
    ")\n",
    "\n",
    "plant.add_extremity(\n",
    "    kind='purchaser',\n",
    "    name='grid',\n",
    "    commodity='elec',\n",
    "    parents='cogen',\n",
    "    predictions=2.0,\n",
    "    variance=lambda rng, series: rng.normal(loc=0.0, scale=0.5)\n",
    ")"
   ],
   "metadata": {
    "collapsed": false,
    "ExecuteTime": {
     "end_time": "2024-01-29T17:08:24.273859400Z",
     "start_time": "2024-01-29T17:08:24.038694200Z"
    }
   },
   "id": "7d2675253304af77",
   "execution_count": 12
  },
  {
   "cell_type": "markdown",
   "source": [
    "## 3. Inspect the Plant\n",
    "\n",
    "It is possible to access the nodes and edges of a `Plant` object at any time using the two methods with the same name. "
   ],
   "metadata": {
    "collapsed": false
   },
   "id": "219f9ec2c87c6023"
  },
  {
   "cell_type": "code",
   "outputs": [
    {
     "name": "stdout",
     "output_type": "stream",
     "text": [
      "gas: Supplier('gas')\n",
      "elec: Supplier('elec')\n",
      "boiler: Machine('boiler')\n",
      "chiller: Machine('chiller')\n",
      "cogen: Machine('cogen')\n",
      "storage: Storage('storage')\n",
      "cool: Customer('cool')\n",
      "heat: Customer('heat')\n",
      "grid: Purchaser('grid')\n"
     ]
    }
   ],
   "source": [
    "for name, node in plant.nodes().items():\n",
    "    print(f'{name}: {node}')"
   ],
   "metadata": {
    "collapsed": false,
    "ExecuteTime": {
     "end_time": "2024-01-29T17:08:24.276147100Z",
     "start_time": "2024-01-29T17:08:24.053460100Z"
    }
   },
   "id": "38a15969fd545e39",
   "execution_count": 13
  },
  {
   "cell_type": "code",
   "outputs": [
    {
     "name": "stdout",
     "output_type": "stream",
     "text": [
      "gas -> cogen: SingleEdge(('gas', 'cogen'))\n",
      "storage -> heat: SingleEdge(('storage', 'heat'))\n",
      "elec -> chiller: SingleEdge(('elec', 'chiller'))\n",
      "cogen -> chiller: SingleEdge(('cogen', 'chiller'))\n",
      "chiller -> cool: SingleEdge(('chiller', 'cool'))\n",
      "gas -> boiler: SingleEdge(('gas', 'boiler'))\n",
      "boiler -> storage: SingleEdge(('boiler', 'storage'))\n",
      "cogen -> grid: SingleEdge(('cogen', 'grid'))\n",
      "boiler -> heat: SingleEdge(('boiler', 'heat'))\n",
      "cogen -> heat: SingleEdge(('cogen', 'heat'))\n",
      "cogen -> storage: SingleEdge(('cogen', 'storage'))\n"
     ]
    }
   ],
   "source": [
    "for (source, destination), edge in plant.edges().items():\n",
    "    print(f'{source} -> {destination}: {edge}')"
   ],
   "metadata": {
    "collapsed": false,
    "ExecuteTime": {
     "end_time": "2024-01-29T17:08:24.279096300Z",
     "start_time": "2024-01-29T17:08:24.072493600Z"
    }
   },
   "id": "be3ca48dd73528c6",
   "execution_count": 14
  },
  {
   "cell_type": "markdown",
   "source": [
    "Additionally, the plant topology can be drawn using the `draw` method. "
   ],
   "metadata": {
    "collapsed": false
   },
   "id": "de5177da67003b96"
  },
  {
   "cell_type": "code",
   "outputs": [
    {
     "data": {
      "text/plain": "<Figure size 1600x900 with 1 Axes>",
      "image/png": "[encoded data removed]"
     },
     "metadata": {},
     "output_type": "display_data"
    }
   ],
   "source": [
    "plant.draw(\n",
    "    figsize=(16, 9),\n",
    "    legend=9,\n",
    "    node_size=25,\n",
    "    node_pos=[\n",
    "        ['gas', 'elec'],\n",
    "        ['boiler', 'cogen', 'chiller'],\n",
    "        ['storage', 'grid'],\n",
    "        ['heat', 'cool']\n",
    "    ],\n",
    "    edge_colors={'gas': '#B4C0D5', 'heat': '#BD1B19', 'elec': '#EBB14A', 'cool': '#A3D5FF'},\n",
    "    edge_styles={'gas': 'solid', 'heat': 'dashed', 'elec': 'dotted', 'cool': 'dashdot'}\n",
    ")"
   ],
   "metadata": {
    "collapsed": false,
    "ExecuteTime": {
     "end_time": "2024-01-29T17:08:24.876919700Z",
     "start_time": "2024-01-29T17:08:24.087145500Z"
    }
   },
   "id": "441e33edb5ef6d7c",
   "execution_count": 15
  },
  {
   "cell_type": "markdown",
   "source": [
    "## 4. Run the Simulation\n",
    "\n",
    "As a final step, it is possible to run the simulation using the `run` method.\n",
    "\n",
    "This method accepts two input parameters:\n",
    "* `plan`, i.e., a dictionary of type {`machine` | `edge`: `states` | `flows`} which associates to each a vector of states for each machine and a vector of flows for each edge in the plant.\n",
    "* `action`, i.e., a `RecourseAction` object that defines the strategy to update the states and the flows throughout the simulation. In this case, we are using the default implementation of the recourse action, which computes the new flows using a greedy strategy that minimizes at each time step the distance from the given plan.\n",
    "A callback mechanism is also implemented, and allows to keep track of the internal status of the simulation by passing a custom `Callback` object to the `callbacks` method.\n",
    "\n",
    "> Note: as for the vector of predictions, again passing a single float value will be translated in a constant vector. Also, the value `np.nan` indicates that the machine is off in that specific time step."
   ],
   "metadata": {
    "collapsed": false
   },
   "id": "3ea81a7fe16f2ca7"
  },
  {
   "cell_type": "code",
   "outputs": [
    {
     "name": "stderr",
     "output_type": "stream",
     "text": [
      "Simulation Status: 100%|██████████| 7/7 [00:01<00:00,  3.99it/s]\n"
     ]
    }
   ],
   "source": [
    "from powerplantsim.plant import DefaultRecourseAction\n",
    "\n",
    "output = plant.run(\n",
    "    plan={\n",
    "        'boiler': [0.1, 0.4, 0.2, 0.4, 0.6, 0.6, 0.5],\n",
    "        'cogen': [np.nan, 0.5, np.nan, np.nan, np.nan, 1.0, np.nan],\n",
    "        'chiller': 0.6,\n",
    "        ('gas', 'boiler'): [10, 40, 20, 40, 60, 60, 50],\n",
    "        ('gas', 'cogen'): [0, 67.5, 0, 0, 0, 135, 0],\n",
    "        ('elec', 'chiller'): 0.42,\n",
    "        ('boiler', 'storage'): 0.0,\n",
    "        ('boiler', 'heat'): [9, 36, 18, 36, 54, 54, 45],\n",
    "        ('cogen', 'storage'): 0.0,\n",
    "        ('cogen', 'chiller'): 0.0,\n",
    "        ('cogen', 'heat'): [0, 27, 0, 0, 0, 50, 0],\n",
    "        ('cogen', 'grid'): [0, 23, 0, 0, 0, 50, 0],\n",
    "        ('storage', 'heat'): 0.0,\n",
    "        ('chiller', 'cool'): 1.2\n",
    "    },\n",
    "    action=DefaultRecourseAction(solver='gurobi'),\n",
    "    callbacks=None\n",
    ")"
   ],
   "metadata": {
    "collapsed": false,
    "ExecuteTime": {
     "end_time": "2024-01-29T17:08:26.708879500Z",
     "start_time": "2024-01-29T17:08:24.886977900Z"
    }
   },
   "id": "14c2dd5462307b30",
   "execution_count": 16
  },
  {
   "cell_type": "markdown",
   "source": [
    "The `run` method return a `SimulationOutput` object, which contains all the simulation details such as the actual machine states that were used, the actual flows that passed in all the edges, and the actual prices, demands, and storage values."
   ],
   "metadata": {
    "collapsed": false
   },
   "id": "aaca495921b43350"
  },
  {
   "cell_type": "code",
   "outputs": [
    {
     "data": {
      "text/plain": "     boiler   chiller  cogen\n0  0.000000  0.386790    1.0\n1  0.600000  0.346433    NaN\n2  0.646667  0.494708    NaN\n3  0.000000  0.337673    1.0\n4  0.574733  0.378121    NaN\n5  0.551111  0.345574    NaN\n6  0.020000  0.504251    1.0",
      "text/html": "<div>\n<style scoped>\n    .dataframe tbody tr th:only-of-type {\n        vertical-align: middle;\n    }\n\n    .dataframe tbody tr th {\n        vertical-align: top;\n    }\n\n    .dataframe thead th {\n        text-align: right;\n    }\n</style>\n<table border=\"1\" class=\"dataframe\">\n  <thead>\n    <tr style=\"text-align: right;\">\n      <th></th>\n      <th>boiler</th>\n      <th>chiller</th>\n      <th>cogen</th>\n    </tr>\n  </thead>\n  <tbody>\n    <tr>\n      <th>0</th>\n      <td>0.000000</td>\n      <td>0.386790</td>\n      <td>1.0</td>\n    </tr>\n    <tr>\n      <th>1</th>\n      <td>0.600000</td>\n      <td>0.346433</td>\n      <td>NaN</td>\n    </tr>\n    <tr>\n      <th>2</th>\n      <td>0.646667</td>\n      <td>0.494708</td>\n      <td>NaN</td>\n    </tr>\n    <tr>\n      <th>3</th>\n      <td>0.000000</td>\n      <td>0.337673</td>\n      <td>1.0</td>\n    </tr>\n    <tr>\n      <th>4</th>\n      <td>0.574733</td>\n      <td>0.378121</td>\n      <td>NaN</td>\n    </tr>\n    <tr>\n      <th>5</th>\n      <td>0.551111</td>\n      <td>0.345574</td>\n      <td>NaN</td>\n    </tr>\n    <tr>\n      <th>6</th>\n      <td>0.020000</td>\n      <td>0.504251</td>\n      <td>1.0</td>\n    </tr>\n  </tbody>\n</table>\n</div>"
     },
     "execution_count": 17,
     "metadata": {},
     "output_type": "execute_result"
    }
   ],
   "source": [
    "output.states"
   ],
   "metadata": {
    "collapsed": false,
    "ExecuteTime": {
     "end_time": "2024-01-29T17:08:26.745219500Z",
     "start_time": "2024-01-29T17:08:26.704006900Z"
    }
   },
   "id": "a6bfe1cf20dda0b3",
   "execution_count": 17
  },
  {
   "cell_type": "code",
   "outputs": [
    {
     "data": {
      "text/plain": "   (gas, cogen)  (storage, heat)  (elec, chiller)  (cogen, chiller)  \\\n0         135.0            0.000         0.270753          0.000000   \n1           0.0            0.000         0.242503          0.000000   \n2           0.0            0.000         0.346296          0.000000   \n3         135.0            0.000         0.000000          0.236371   \n4           0.0            1.274         0.264685          0.000000   \n5           0.0            0.000         0.241902          0.000000   \n6         135.0            0.000         0.352976          0.000000   \n\n   (chiller, cool)  (gas, boiler)  (boiler, storage)  (cogen, grid)  \\\n0         0.773579       0.000000                0.0      50.000000   \n1         0.692866      60.000000                0.0       0.000000   \n2         0.989416      64.666667                0.0       0.000000   \n3         0.675345       0.000000                0.0      49.763629   \n4         0.756242      57.473333                0.0       0.000000   \n5         0.691148      55.111111                0.0       0.000000   \n6         1.008503       2.000000                0.0      50.000000   \n\n   (boiler, heat)  (cogen, heat)  (cogen, storage)  \n0           0.000           50.0               0.0  \n1          54.000            0.0               0.0  \n2          58.200            0.0               0.0  \n3           0.000           48.7               1.3  \n4          51.726            0.0               0.0  \n5          49.600            0.0               0.0  \n6           1.800           50.0               0.0  ",
      "text/html": "<div>\n<style scoped>\n    .dataframe tbody tr th:only-of-type {\n        vertical-align: middle;\n    }\n\n    .dataframe tbody tr th {\n        vertical-align: top;\n    }\n\n    .dataframe thead th {\n        text-align: right;\n    }\n</style>\n<table border=\"1\" class=\"dataframe\">\n  <thead>\n    <tr style=\"text-align: right;\">\n      <th></th>\n      <th>(gas, cogen)</th>\n      <th>(storage, heat)</th>\n      <th>(elec, chiller)</th>\n      <th>(cogen, chiller)</th>\n      <th>(chiller, cool)</th>\n      <th>(gas, boiler)</th>\n      <th>(boiler, storage)</th>\n      <th>(cogen, grid)</th>\n      <th>(boiler, heat)</th>\n      <th>(cogen, heat)</th>\n      <th>(cogen, storage)</th>\n    </tr>\n  </thead>\n  <tbody>\n    <tr>\n      <th>0</th>\n      <td>135.0</td>\n      <td>0.000</td>\n      <td>0.270753</td>\n      <td>0.000000</td>\n      <td>0.773579</td>\n      <td>0.000000</td>\n      <td>0.0</td>\n      <td>50.000000</td>\n      <td>0.000</td>\n      <td>50.0</td>\n      <td>0.0</td>\n    </tr>\n    <tr>\n      <th>1</th>\n      <td>0.0</td>\n      <td>0.000</td>\n      <td>0.242503</td>\n      <td>0.000000</td>\n      <td>0.692866</td>\n      <td>60.000000</td>\n      <td>0.0</td>\n      <td>0.000000</td>\n      <td>54.000</td>\n      <td>0.0</td>\n      <td>0.0</td>\n    </tr>\n    <tr>\n      <th>2</th>\n      <td>0.0</td>\n      <td>0.000</td>\n      <td>0.346296</td>\n      <td>0.000000</td>\n      <td>0.989416</td>\n      <td>64.666667</td>\n      <td>0.0</td>\n      <td>0.000000</td>\n      <td>58.200</td>\n      <td>0.0</td>\n      <td>0.0</td>\n    </tr>\n    <tr>\n      <th>3</th>\n      <td>135.0</td>\n      <td>0.000</td>\n      <td>0.000000</td>\n      <td>0.236371</td>\n      <td>0.675345</td>\n      <td>0.000000</td>\n      <td>0.0</td>\n      <td>49.763629</td>\n      <td>0.000</td>\n      <td>48.7</td>\n      <td>1.3</td>\n    </tr>\n    <tr>\n      <th>4</th>\n      <td>0.0</td>\n      <td>1.274</td>\n      <td>0.264685</td>\n      <td>0.000000</td>\n      <td>0.756242</td>\n      <td>57.473333</td>\n      <td>0.0</td>\n      <td>0.000000</td>\n      <td>51.726</td>\n      <td>0.0</td>\n      <td>0.0</td>\n    </tr>\n    <tr>\n      <th>5</th>\n      <td>0.0</td>\n      <td>0.000</td>\n      <td>0.241902</td>\n      <td>0.000000</td>\n      <td>0.691148</td>\n      <td>55.111111</td>\n      <td>0.0</td>\n      <td>0.000000</td>\n      <td>49.600</td>\n      <td>0.0</td>\n      <td>0.0</td>\n    </tr>\n    <tr>\n      <th>6</th>\n      <td>135.0</td>\n      <td>0.000</td>\n      <td>0.352976</td>\n      <td>0.000000</td>\n      <td>1.008503</td>\n      <td>2.000000</td>\n      <td>0.0</td>\n      <td>50.000000</td>\n      <td>1.800</td>\n      <td>50.0</td>\n      <td>0.0</td>\n    </tr>\n  </tbody>\n</table>\n</div>"
     },
     "execution_count": 18,
     "metadata": {},
     "output_type": "execute_result"
    }
   ],
   "source": [
    "output.flows"
   ],
   "metadata": {
    "collapsed": false,
    "ExecuteTime": {
     "end_time": "2024-01-29T17:08:26.876616Z",
     "start_time": "2024-01-29T17:08:26.729353800Z"
    }
   },
   "id": "8c2613b90106d47a",
   "execution_count": 18
  },
  {
   "cell_type": "code",
   "outputs": [
    {
     "data": {
      "text/plain": "  storage   demands       buying_prices sell_prices          \n  storage      cool  heat          grid         gas      elec\n0     0.0  0.773579  50.0      2.320211         1.0  1.425146\n1     0.0  0.692866  54.0      2.180798         1.0  0.820980\n2     0.0  0.989416  58.2      1.648132         1.0  2.560800\n3     1.3  0.675345  48.7      2.020663         1.0  2.946916\n4     0.0  0.756242  53.0      1.377045         1.0  1.334994\n5     0.0  0.691148  49.6      1.841850         1.0  1.953547\n6     0.0  1.008503  51.8      1.935733         1.0  1.582326",
      "text/html": "<div>\n<style scoped>\n    .dataframe tbody tr th:only-of-type {\n        vertical-align: middle;\n    }\n\n    .dataframe tbody tr th {\n        vertical-align: top;\n    }\n\n    .dataframe thead tr th {\n        text-align: left;\n    }\n</style>\n<table border=\"1\" class=\"dataframe\">\n  <thead>\n    <tr>\n      <th></th>\n      <th>storage</th>\n      <th colspan=\"2\" halign=\"left\">demands</th>\n      <th>buying_prices</th>\n      <th colspan=\"2\" halign=\"left\">sell_prices</th>\n    </tr>\n    <tr>\n      <th></th>\n      <th>storage</th>\n      <th>cool</th>\n      <th>heat</th>\n      <th>grid</th>\n      <th>gas</th>\n      <th>elec</th>\n    </tr>\n  </thead>\n  <tbody>\n    <tr>\n      <th>0</th>\n      <td>0.0</td>\n      <td>0.773579</td>\n      <td>50.0</td>\n      <td>2.320211</td>\n      <td>1.0</td>\n      <td>1.425146</td>\n    </tr>\n    <tr>\n      <th>1</th>\n      <td>0.0</td>\n      <td>0.692866</td>\n      <td>54.0</td>\n      <td>2.180798</td>\n      <td>1.0</td>\n      <td>0.820980</td>\n    </tr>\n    <tr>\n      <th>2</th>\n      <td>0.0</td>\n      <td>0.989416</td>\n      <td>58.2</td>\n      <td>1.648132</td>\n      <td>1.0</td>\n      <td>2.560800</td>\n    </tr>\n    <tr>\n      <th>3</th>\n      <td>1.3</td>\n      <td>0.675345</td>\n      <td>48.7</td>\n      <td>2.020663</td>\n      <td>1.0</td>\n      <td>2.946916</td>\n    </tr>\n    <tr>\n      <th>4</th>\n      <td>0.0</td>\n      <td>0.756242</td>\n      <td>53.0</td>\n      <td>1.377045</td>\n      <td>1.0</td>\n      <td>1.334994</td>\n    </tr>\n    <tr>\n      <th>5</th>\n      <td>0.0</td>\n      <td>0.691148</td>\n      <td>49.6</td>\n      <td>1.841850</td>\n      <td>1.0</td>\n      <td>1.953547</td>\n    </tr>\n    <tr>\n      <th>6</th>\n      <td>0.0</td>\n      <td>1.008503</td>\n      <td>51.8</td>\n      <td>1.935733</td>\n      <td>1.0</td>\n      <td>1.582326</td>\n    </tr>\n  </tbody>\n</table>\n</div>"
     },
     "execution_count": 19,
     "metadata": {},
     "output_type": "execute_result"
    }
   ],
   "source": [
    "pd.concat([output.storage, output.demands, output.buying_prices, output.sell_prices],\n",
    "          keys=['storage', 'demands', 'buying_prices', 'sell_prices'], axis=1)"
   ],
   "metadata": {
    "collapsed": false,
    "ExecuteTime": {
     "end_time": "2024-01-29T17:08:26.901544900Z",
     "start_time": "2024-01-29T17:08:26.763831600Z"
    }
   },
   "id": "6f95168d01e805f7",
   "execution_count": 19
  }
 ],
 "metadata": {
  "kernelspec": {
   "display_name": "Python 3",
   "language": "python",
   "name": "python3"
  },
  "language_info": {
   "codemirror_mode": {
    "name": "ipython",
    "version": 2
   },
   "file_extension": ".py",
   "mimetype": "text/x-python",
   "name": "python",
   "nbconvert_exporter": "python",
   "pygments_lexer": "ipython2",
   "version": "2.7.6"
  }
 },
 "nbformat": 4,
 "nbformat_minor": 5
}
