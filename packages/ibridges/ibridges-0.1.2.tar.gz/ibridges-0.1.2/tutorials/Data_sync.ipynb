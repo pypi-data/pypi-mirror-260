{
 "cells": [
  {
   "cell_type": "markdown",
   "id": "d6dbf987",
   "metadata": {},
   "source": [
    "# iRODS sync tutorial"
   ]
  },
  {
   "cell_type": "markdown",
   "id": "dfb329bc",
   "metadata": {},
   "source": [
    "`sync` synchronizes the data between a local copy (local file system) and the copy stored in iRODS. It compares path, size and optionally checksum of local and remote files to determine whether they have changed and should be synchronized. It creates files or overwrites older copies, but does not delete files from the target location when they have been deleted from the source.\n",
    "\n",
    "The command can be in one of the two modes: synchronization of data from the client's local file system to iRODS, or from iRODS to the local file system."
   ]
  },
  {
   "cell_type": "code",
   "execution_count": null,
   "id": "de207d54",
   "metadata": {},
   "outputs": [],
   "source": [
    "from pathlib import Path\n",
    "from ibridges import Session\n",
    "from ibridges.path import IrodsPath\n",
    "from ibridges.sync import sync_data"
   ]
  },
  {
   "cell_type": "markdown",
   "id": "2bd887f2",
   "metadata": {},
   "source": [
    "### Create a session\n",
    "\n",
    "Set up a session to an iRODS server. In this example we assume you have a valid locally cached iRODS password from a previous session."
   ]
  },
  {
   "cell_type": "code",
   "execution_count": null,
   "id": "648f8c49",
   "metadata": {},
   "outputs": [],
   "source": [
    "session = Session(irods_env_path=Path.expanduser(Path('~')).joinpath(\".irods\", \"irods_environment.json\"))"
   ]
  },
  {
   "cell_type": "markdown",
   "id": "123e9829",
   "metadata": {},
   "source": [
    "### Uploading/downloading\n",
    "Upload or download mode is determined by the type of `source` and `target` (`IrodsPath` or `str`/`Path`).\n",
    "\n",
    "When uploading, `source` must be an existing local folder, and `target` an existing iRODS collection, and vice versa when downloading. An exception will be raised if either doesn't exist."
   ]
  },
  {
   "cell_type": "code",
   "execution_count": null,
   "id": "d7bd4841",
   "metadata": {},
   "outputs": [],
   "source": [
    "target = IrodsPath(session, \"~\", <irods coll path>)\n",
    "source = Path(os.path.expanduser(\"~\"), <your path>)"
   ]
  },
  {
   "cell_type": "markdown",
   "id": "d20dd782",
   "metadata": {},
   "source": [
    "### Setting sync options\n",
    "`sync` takes various options:\n",
    "\n",
    "- `ignore_checksum`: sync compares the checksum values and file sizes of the source and target files to determine whether synchronization is needed. If the `ignore_checksum` option is set to True, only the file size (instead of the the size and checksum value) is used for determining whether synchronization is needed. This mode gives a potentially faster operation but the result is less accurate.\n",
    "- The `max_level` option controls the depth up to which the file tree will be synchronized. With `max_level` set to None (default), there is no limit (full recursive synchronization). A max level of 1 synchronizes only the source's root, max level 2 also includes the first set of subfolders/subcollections and their contents, etc.\n",
    "- The `copy_empty_folders` (default False) option controls whether folders/collections that contain no files or subfolders/subcollections will be synchronized.\n",
    "- The `dry_run` option lists all the source files and folders that need to be synchronized without actually performing the synchronization.\n",
    "- The `verify_checksum` (default True) option will calculate and verify the checksum on the data after up- or downloading. A checksum mismatch will generate an error, but will not abort the synchronization process."
   ]
  },
  {
   "cell_type": "code",
   "execution_count": null,
   "id": "edc53ead",
   "metadata": {},
   "outputs": [],
   "source": [
    "ignore_checksum=True\n",
    "max_level=None\n",
    "copy_empty_folders=True\n",
    "# copy_empty_folders=False\n",
    "dry_run=True"
   ]
  },
  {
   "cell_type": "markdown",
   "id": "f9abc0ae",
   "metadata": {},
   "source": [
    "### Dry run\n",
    "Setting `dry_run` to True will list what will be synchronized without any actual transfers. Note that setting `verify_checksum` while performing a dry run will have no effect."
   ]
  },
  {
   "cell_type": "code",
   "execution_count": null,
   "id": "cd8b1155",
   "metadata": {},
   "outputs": [],
   "source": [
    "ignore_checksum=False\n",
    "sync(\n",
    "    session=session,\n",
    "    source=source,\n",
    "    target=target,\n",
    "    max_level=max_level,      \n",
    "    dry_run=dry_run,\n",
    "    ignore_checksum=ignore_checksum,\n",
    "    copy_empty_folders=copy_empty_folders\n",
    ")"
   ]
  },
  {
   "cell_type": "markdown",
   "id": "ec01f5ca",
   "metadata": {},
   "source": [
    "To perform the actual synchronization, set `dry_run` to False, and run again."
   ]
  },
  {
   "cell_type": "code",
   "execution_count": null,
   "id": "20785359",
   "metadata": {},
   "outputs": [],
   "source": [
    "dry_run=False\n",
    "verify_checksum=True"
   ]
  },
  {
   "cell_type": "code",
   "execution_count": null,
   "id": "ed24c7bf",
   "metadata": {},
   "outputs": [],
   "source": [
    "sync(\n",
    "    session=session,\n",
    "    source=source,\n",
    "    target=target,\n",
    "    max_level=max_level,      \n",
    "    dry_run=dry_run,\n",
    "    verify_checksum=verify_checksum,\n",
    "    copy_empty_folders=copy_empty_folders)"
   ]
  }
 ],
 "metadata": {
  "kernelspec": {
   "display_name": "Python 3 (ipykernel)",
   "language": "python",
   "name": "python3"
  },
  "language_info": {
   "codemirror_mode": {
    "name": "ipython",
    "version": 3
   },
   "file_extension": ".py",
   "mimetype": "text/x-python",
   "name": "python",
   "nbconvert_exporter": "python",
   "pygments_lexer": "ipython3",
   "version": "3.10.13"
  }
 },
 "nbformat": 4,
 "nbformat_minor": 5
}
