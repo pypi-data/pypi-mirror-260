{
 "cells": [
  {
   "cell_type": "code",
   "execution_count": 1,
   "metadata": {},
   "outputs": [
    {
     "name": "stderr",
     "output_type": "stream",
     "text": [
      "2023-05-02 12:00:27.434476: I tensorflow/core/platform/cpu_feature_guard.cc:193] This TensorFlow binary is optimized with oneAPI Deep Neural Network Library (oneDNN) to use the following CPU instructions in performance-critical operations:  AVX2 FMA\n",
      "To enable them in other operations, rebuild TensorFlow with the appropriate compiler flags.\n"
     ]
    }
   ],
   "source": [
    "import pandas as pd\n",
    "import numpy as np\n",
    "import matplotlib.pyplot as plt\n",
    "from spacy.cli.train import train\n",
    "import spacy"
   ]
  },
  {
   "cell_type": "code",
   "execution_count": 4,
   "metadata": {},
   "outputs": [
    {
     "name": "stdout",
     "output_type": "stream",
     "text": [
      "\u001b[38;5;4mℹ Saving to output directory: sig_ner_bert2_model\u001b[0m\n",
      "\u001b[38;5;4mℹ Using CPU\u001b[0m\n",
      "\u001b[38;5;4mℹ To switch to GPU 0, use the option: --gpu-id 0\u001b[0m\n",
      "\u001b[1m\n",
      "=========================== Initializing pipeline ===========================\u001b[0m\n"
     ]
    },
    {
     "name": "stderr",
     "output_type": "stream",
     "text": [
      "Some weights of the model checkpoint at nlpie/compact-biobert were not used when initializing BertModel: ['cls.predictions.transform.dense.bias', 'cls.predictions.decoder.weight', 'cls.predictions.decoder.bias', 'cls.predictions.transform.dense.weight', 'cls.predictions.transform.LayerNorm.weight', 'cls.predictions.transform.LayerNorm.bias', 'cls.predictions.bias']\n",
      "- This IS expected if you are initializing BertModel from the checkpoint of a model trained on another task or with another architecture (e.g. initializing a BertForSequenceClassification model from a BertForPreTraining model).\n",
      "- This IS NOT expected if you are initializing BertModel from the checkpoint of a model that you expect to be exactly identical (initializing a BertForSequenceClassification model from a BertForSequenceClassification model).\n",
      "Some weights of BertModel were not initialized from the model checkpoint at nlpie/compact-biobert and are newly initialized: ['bert.pooler.dense.bias', 'bert.pooler.dense.weight']\n",
      "You should probably TRAIN this model on a down-stream task to be able to use it for predictions and inference.\n"
     ]
    },
    {
     "name": "stdout",
     "output_type": "stream",
     "text": [
      "\u001b[38;5;2m✔ Initialized pipeline\u001b[0m\n",
      "\u001b[1m\n",
      "============================= Training pipeline =============================\u001b[0m\n",
      "\u001b[38;5;4mℹ Pipeline: ['transformer', 'ner']\u001b[0m\n",
      "\u001b[38;5;4mℹ Initial learn rate: 0.0\u001b[0m\n",
      "E    #       LOSS TRANS...  LOSS NER  ENTS_F  ENTS_P  ENTS_R  SCORE \n",
      "---  ------  -------------  --------  ------  ------  ------  ------\n",
      "  0       0       34600.13   1233.77    0.05    0.04    0.06    0.00\n",
      "  3     200      595313.27  90023.28   66.81   76.86   59.09    0.67\n",
      "  6     400       31489.43  35282.71   82.12   83.19   81.08    0.82\n",
      " 10     600       14314.17  30800.98   86.06   84.78   87.38    0.86\n",
      " 13     800        3639.77  29515.45   87.52   87.77   87.27    0.88\n",
      "\u001b[38;5;2m✔ Saved pipeline to output directory\u001b[0m\n",
      "sig_ner_bert2_model/model-last\n"
     ]
    }
   ],
   "source": [
    "train(\"config/config_compact_bert.cfg\",\n",
    "      output_path='sig_ner_bert2_model',\n",
    "      overrides={\"paths.train\": \"/Users/royashcenazi/Studies/data/train_docs.spacy\", \n",
    "                 \"paths.dev\": \"/Users/royashcenazi/Studies/data/test_docs.spacy\",\n",
    "                 \"training.max_epochs\": 16})\n",
    "\n",
    "# !python3 -m spacy train config/config_bert.cfg -o sig_bert_model --paths.train train_docs.spacy --paths.dev test_docs.spacy --training.max_epochs 8\n"
   ]
  },
  {
   "cell_type": "code",
   "execution_count": 20,
   "metadata": {},
   "outputs": [],
   "source": [
    "trained_nlp = spacy.load('../../parsigs-models/sig_bert_model/model-best/')"
   ]
  },
  {
   "attachments": {},
   "cell_type": "markdown",
   "metadata": {},
   "source": [
    "##### first outcome! "
   ]
  },
  {
   "cell_type": "code",
   "execution_count": 8,
   "metadata": {},
   "outputs": [
    {
     "data": {
      "text/plain": [
       "[(1, 'Dosage'),\n",
       " (tablet, 'Form'),\n",
       " (150 mcg, 'Strength'),\n",
       " (two times daily, 'Frequency'),\n",
       " (for one week, 'Duration'),\n",
       " (2, 'Dosage'),\n",
       " (aderol, 'Drug'),\n",
       " (every day, 'Frequency')]"
      ]
     },
     "execution_count": 8,
     "metadata": {},
     "output_type": "execute_result"
    }
   ],
   "source": [
    "inp = 'TAKE 1 TABLET  (150 MCG TOTAL) BY MOUTH two times DAILY for one week by the way patient id is 303023 and take 2 aderol every day'.lower()\n",
    "[(e, e.label_) for e in trained_nlp(inp).ents]"
   ]
  },
  {
   "cell_type": "code",
   "execution_count": 9,
   "metadata": {},
   "outputs": [
    {
     "data": {
      "text/plain": [
       "[(2, 'Dosage'),\n",
       " (tablets, 'Form'),\n",
       " (aderol, 'Drug'),\n",
       " (morning every week, 'Frequency')]"
      ]
     },
     "execution_count": 9,
     "metadata": {},
     "output_type": "execute_result"
    }
   ],
   "source": [
    "inp = 'Take 2 tablets of aderol in the morning every week'.lower()\n",
    "[(e, e.label_) for e in trained_nlp(inp).ents]"
   ]
  },
  {
   "cell_type": "code",
   "execution_count": 10,
   "metadata": {},
   "outputs": [
    {
     "data": {
      "text/plain": [
       "[(2, 'Dosage'),\n",
       " (capsules, 'Form'),\n",
       " (qid, 'Frequency'),\n",
       " (amoxicillin, 'Drug'),\n",
       " (500mg, 'Strength')]"
      ]
     },
     "execution_count": 10,
     "metadata": {},
     "output_type": "execute_result"
    }
   ],
   "source": [
    "inp = \"Take 2 capsules qid of amoxicillin 500mg\"\n",
    "[(e, e.label_) for e in trained_nlp(inp).ents]"
   ]
  },
  {
   "attachments": {},
   "cell_type": "markdown",
   "metadata": {},
   "source": [
    " We can even parse multuple dosing instructions"
   ]
  },
  {
   "cell_type": "code",
   "execution_count": 11,
   "metadata": {},
   "outputs": [
    {
     "name": "stdout",
     "output_type": "stream",
     "text": [
      "[(3, 'Dosage'), (puffs, 'Form'), (albuterol, 'Drug'), (2 times a day, 'Frequency'), (for one week, 'Duration'), (1, 'Dosage'), (puff, 'Form'), (albuterol, 'Drug'), (every day, 'Frequency'), (for 2 months, 'Duration')]\n"
     ]
    }
   ],
   "source": [
    "inp = 'inhale 3 puffs of albuterol 2 times a day for one week' \\\n",
    "      ' then 1 puff of albuterol every day for 2 months'\n",
    "\n",
    "print([(e, e.label_) for e in trained_nlp(inp).ents])"
   ]
  },
  {
   "cell_type": "code",
   "execution_count": 20,
   "metadata": {},
   "outputs": [
    {
     "name": "stdout",
     "output_type": "stream",
     "text": [
      "[(tablet, 'Form'), (20 mg, 'Strength')]\n"
     ]
    }
   ],
   "source": [
    "inp = 'TAKE 1 TABLET (20 MG) BY MOUTH every 2 months'.lower()\n",
    "print([(e, e.label_) for e in trained_nlp(inp).ents])"
   ]
  },
  {
   "attachments": {},
   "cell_type": "markdown",
   "metadata": {},
   "source": [
    " There are many things to improve, one example is the frequency that can and should be parsed to an interval type and amoubt (e.g type=day, amount=2)\n",
    "\n",
    "Also, the model only recognizes encountered features, so inputting to the model a new sentence, will not be parsed correctly. \n",
    "When we will use the pre-trained Bert model, this issue should be resolved"
   ]
  },
  {
   "cell_type": "code",
   "execution_count": 11,
   "metadata": {},
   "outputs": [
    {
     "data": {
      "text/plain": [
       "[(1, 'Dosage'),\n",
       " (tablet, 'Form'),\n",
       " (ibuprofen, 'Drug'),\n",
       " (3 times a day, 'Dosage')]"
      ]
     },
     "execution_count": 11,
     "metadata": {},
     "output_type": "execute_result"
    }
   ],
   "source": [
    "inp = 'Take 1 tablet of ibuprofen 3 times a day'\n",
    "\n",
    "\n",
    "[(e, e.label_) for e in trained_nlp(inp).ents]"
   ]
  },
  {
   "cell_type": "code",
   "execution_count": 13,
   "metadata": {},
   "outputs": [
    {
     "data": {
      "text/plain": [
       "[(1, 'Dosage'), (q7d, 'Frequency')]"
      ]
     },
     "execution_count": 13,
     "metadata": {},
     "output_type": "execute_result"
    }
   ],
   "source": [
    "inp = '1 TAB Q7d'.lower()\n",
    "\n",
    "[(e, e.label_) for e in trained_nlp(inp).ents]"
   ]
  },
  {
   "cell_type": "code",
   "execution_count": 3,
   "metadata": {},
   "outputs": [
    {
     "data": {
      "text/plain": [
       "[(1, 'Dosage'),\n",
       " (tab of, 'Form'),\n",
       " (for 24 days, 'Duration'),\n",
       " (4 days, 'Duration')]"
      ]
     },
     "execution_count": 3,
     "metadata": {},
     "output_type": "execute_result"
    }
   ],
   "source": [
    "inp = 'Take 1 tab of Minesse for 24 days then skip 4 days'\n",
    "\n",
    "[(e, e.label_) for e in trained_nlp(inp).ents]"
   ]
  },
  {
   "cell_type": "code",
   "execution_count": 2,
   "metadata": {},
   "outputs": [],
   "source": [
    "trial = spacy.load(\"en_parsigs\")"
   ]
  },
  {
   "cell_type": "code",
   "execution_count": 8,
   "metadata": {},
   "outputs": [
    {
     "data": {
      "text/plain": [
       "[(1, 'Dosage'),\n",
       " (tab of, 'Form'),\n",
       " (for 24 days, 'Duration'),\n",
       " (4 days, 'Duration')]"
      ]
     },
     "execution_count": 8,
     "metadata": {},
     "output_type": "execute_result"
    }
   ],
   "source": [
    "inp = 'Take 1 tab of Minesse for 24 days then skip 4 days'\n",
    "\n",
    "[(e, e.label_) for e in \n",
    "(inp).ents]\n"
   ]
  }
 ],
 "metadata": {
  "kernelspec": {
   "display_name": "Python 3",
   "language": "python",
   "name": "python3"
  },
  "language_info": {
   "codemirror_mode": {
    "name": "ipython",
    "version": 3
   },
   "file_extension": ".py",
   "mimetype": "text/x-python",
   "name": "python",
   "nbconvert_exporter": "python",
   "pygments_lexer": "ipython3",
   "version": "3.10.9"
  },
  "orig_nbformat": 4,
  "vscode": {
   "interpreter": {
    "hash": "aee8b7b246df8f9039afb4144a1f6fd8d2ca17a180786b69acc140d282b71a49"
   }
  }
 },
 "nbformat": 4,
 "nbformat_minor": 2
}
