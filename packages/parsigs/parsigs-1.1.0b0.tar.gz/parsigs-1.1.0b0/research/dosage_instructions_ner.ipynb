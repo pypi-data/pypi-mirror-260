{
 "cells": [
  {
   "cell_type": "code",
   "execution_count": 6,
   "metadata": {},
   "outputs": [],
   "source": [
    "import pandas as pd\n",
    "import numpy as np\n",
    "import matplotlib.pyplot as plt\n",
    "import sklearn\n",
    "\n",
    "from spacy.cli.train import train\n",
    "import spacy"
   ]
  },
  {
   "cell_type": "code",
   "execution_count": 40,
   "metadata": {},
   "outputs": [
    {
     "name": "stdout",
     "output_type": "stream",
     "text": [
      "\u001b[38;5;4mℹ Saving to output directory: sig_ner_model\u001b[0m\n",
      "\u001b[38;5;4mℹ Using CPU\u001b[0m\n",
      "\u001b[1m\n",
      "=========================== Initializing pipeline ===========================\u001b[0m\n",
      "\u001b[38;5;2m✔ Initialized pipeline\u001b[0m\n",
      "\u001b[1m\n",
      "============================= Training pipeline =============================\u001b[0m\n",
      "\u001b[38;5;4mℹ Pipeline: ['tok2vec', 'ner']\u001b[0m\n",
      "\u001b[38;5;4mℹ Initial learn rate: 0.0\u001b[0m\n",
      "E    #       LOSS TOK2VEC  LOSS NER  ENTS_F  ENTS_P  ENTS_R  SCORE \n",
      "---  ------  ------------  --------  ------  ------  ------  ------\n",
      "  0       0          0.00    876.38    0.00    0.00    0.00    0.00\n",
      "  3     200        232.85  253498.43    0.00    0.00    0.00    0.00\n",
      "  6     400       2538.98  47127.05    0.33   85.71    0.17    0.00\n",
      " 10     600       6289.14  27416.00   18.73   48.11   11.63    0.19\n",
      " 13     800       1955.74  18480.40   35.70   53.23   26.85    0.36\n",
      " 16    1000       9137.81  15990.31   47.05   62.16   37.85    0.47\n",
      " 20    1200       2047.95  12642.24   58.47   69.13   50.66    0.58\n",
      " 23    1400       1129.24  10456.20   61.88   69.44   55.80    0.62\n",
      " 26    1600       2516.88   9280.43   60.27   69.08   53.45    0.60\n",
      " 30    1800        943.15   8733.76   65.86   75.10   58.65    0.66\n",
      " 33    2000       2477.29   7419.23   69.97   77.16   64.01    0.70\n",
      " 36    2200       1775.70   6626.38   71.99   77.90   66.91    0.72\n",
      " 40    2400       1075.94   5784.27   74.09   80.47   68.65    0.74\n",
      " 43    2600       2740.36   5217.25   74.84   80.55   69.89    0.75\n",
      " 46    2800        761.18   4928.58   75.89   81.44   71.05    0.76\n",
      " 50    3000       1160.84   4587.63   77.78   84.17   72.29    0.78\n",
      " 53    3200        815.41   4200.55   78.51   83.82   73.84    0.79\n",
      " 56    3400       1154.76   3952.78   79.30   84.95   74.36    0.79\n",
      " 60    3600       1146.51   3500.75   79.73   85.56   74.64    0.80\n",
      " 63    3800        887.72   3217.59   79.79   85.67   74.67    0.80\n",
      " 66    4000       1131.11   3054.64   79.92   86.27   74.45    0.80\n",
      "\u001b[38;5;2m✔ Saved pipeline to output directory\u001b[0m\n",
      "sig_ner_model/model-last\n"
     ]
    }
   ],
   "source": [
    "train(\"config/config.cfg\",\n",
    "      output_path='sig_ner_model',\n",
    "      overrides={\"paths.train\": \"train_docs.spacy\", \n",
    "                 \"paths.dev\": \"test_docs.spacy\",\n",
    "                 \"training.max_epochs\": 68})"
   ]
  },
  {
   "cell_type": "code",
   "execution_count": 45,
   "metadata": {},
   "outputs": [],
   "source": [
    "trained_nlp = spacy.load('./sig_ner_model/model-best')"
   ]
  },
  {
   "attachments": {},
   "cell_type": "markdown",
   "metadata": {},
   "source": [
    "##### first outcome! "
   ]
  },
  {
   "cell_type": "code",
   "execution_count": 9,
   "metadata": {},
   "outputs": [
    {
     "data": {
      "text/plain": [
       "[(1, 'Dosage'),\n",
       " (tablet, 'Form'),\n",
       " (150 mcg, 'Strength'),\n",
       " (two times daily, 'Frequency'),\n",
       " (aderol, 'Drug'),\n",
       " (every day, 'Frequency')]"
      ]
     },
     "execution_count": 9,
     "metadata": {},
     "output_type": "execute_result"
    }
   ],
   "source": [
    "inp = 'TAKE 1 TABLET  (150 MCG TOTAL) BY MOUTH two times DAILY for one week by the way patient id is 303023 and take 2 aderol every day'.lower()\n",
    "[(e, e.label_) for e in trained_nlp(inp).ents]"
   ]
  },
  {
   "cell_type": "code",
   "execution_count": 47,
   "metadata": {},
   "outputs": [
    {
     "data": {
      "text/plain": [
       "[(two, 'Dosage'), (tablets, 'Form'), (3 times every week, 'Dosage')]"
      ]
     },
     "execution_count": 47,
     "metadata": {},
     "output_type": "execute_result"
    }
   ],
   "source": [
    "\"INHALE 2 PUFFS INTO THE LUNGS EVERY DAY\"\n",
    "inp = 'Take two tablets 3 times every week'.lower()\n",
    "[(e, e.label_) for e in trained_nlp(inp).ents]"
   ]
  },
  {
   "cell_type": "code",
   "execution_count": 151,
   "metadata": {},
   "outputs": [
    {
     "name": "stdout",
     "output_type": "stream",
     "text": [
      "[(3, 'Dosage'), (puffs, 'Form'), (albuterol, 'Drug'), (2 times a day, 'Frequency'), (for one week, 'Duration')]\n"
     ]
    }
   ],
   "source": [
    "inp = 'inhale 3 puffs of albuterol 2 times a day for one week patient id is 20202'\n",
    "[(e, e.label_) for e in trained_nlp(inp).ents]"
   ]
  },
  {
   "attachments": {},
   "cell_type": "markdown",
   "metadata": {},
   "source": [
    " We can even parse multuple dosing instructions"
   ]
  },
  {
   "cell_type": "code",
   "execution_count": 171,
   "metadata": {},
   "outputs": [
    {
     "name": "stdout",
     "output_type": "stream",
     "text": [
      "[(3, 'Dosage'), (puffs, 'Form'), (albuterol, 'Drug'), (2 times a day, 'Frequency'), (for one week, 'Duration'), (1, 'Dosage'), (puff, 'Form'), (albuterol, 'Drug'), (every day, 'Frequency'), (for 2 months, 'Duration')]\n"
     ]
    }
   ],
   "source": [
    "inp = 'inhale 3 puffs of albuterol 2 times a day for one week' \\\n",
    "      ' then 1 puff of albuterol every day for 2 months'\n",
    "\n",
    "print([(e, e.label_) for e in trained_nlp(inp).ents])"
   ]
  },
  {
   "cell_type": "code",
   "execution_count": 10,
   "metadata": {},
   "outputs": [
    {
     "name": "stdout",
     "output_type": "stream",
     "text": [
      "[(1, 'Dosage'), (tablet, 'Form'), (20 mg, 'Strength'), (every 2 months, 'Frequency')]\n"
     ]
    }
   ],
   "source": [
    "inp = 'TAKE 1 TABLET (20 MG) BY MOUTH every 2 months'.lower()\n",
    "print([(e, e.label_) for e in trained_nlp(inp).ents])"
   ]
  },
  {
   "attachments": {},
   "cell_type": "markdown",
   "metadata": {},
   "source": [
    " There are many things to improve, one example is the frequency that can and should be parsed to an interval type and amoubt (e.g type=day, amount=2)\n",
    "\n",
    "Also, the model only recognizes encountered features, so inputting to the model a new sentence, will not be parsed correctly. \n",
    "When we will use the pre-trained Bert model, this issue should be resolved"
   ]
  },
  {
   "cell_type": "code",
   "execution_count": 11,
   "metadata": {},
   "outputs": [
    {
     "data": {
      "text/plain": [
       "[(1, 'Dosage'),\n",
       " (tablet, 'Form'),\n",
       " (ibuprofen, 'Drug'),\n",
       " (3 times a day, 'Dosage')]"
      ]
     },
     "execution_count": 11,
     "metadata": {},
     "output_type": "execute_result"
    }
   ],
   "source": [
    "inp = 'Take 1 tablet of ibuprofen 3 times a day'\n",
    "\n",
    "\n",
    "[(e, e.label_) for e in trained_nlp(inp).ents]"
   ]
  },
  {
   "cell_type": "code",
   "execution_count": 179,
   "metadata": {},
   "outputs": [
    {
     "data": {
      "text/plain": [
       "[(aspirin, 'Drug'),\n",
       " (100 mg, 'Strength'),\n",
       " (tablet, 'Form'),\n",
       " (1.5, 'Dosage'),\n",
       " (daily, 'Frequency')]"
      ]
     },
     "execution_count": 179,
     "metadata": {},
     "output_type": "execute_result"
    }
   ],
   "source": [
    "inp = ' ASPIRIN 100 mg Initiate Medication IMMEDIATE RELEASE TABLET 1.5 daily'.lower()\n",
    "\n",
    "[(e, e.label_) for e in trained_nlp(inp).ents]"
   ]
  }
 ],
 "metadata": {
  "kernelspec": {
   "display_name": "Python 3",
   "language": "python",
   "name": "python3"
  },
  "language_info": {
   "codemirror_mode": {
    "name": "ipython",
    "version": 3
   },
   "file_extension": ".py",
   "mimetype": "text/x-python",
   "name": "python",
   "nbconvert_exporter": "python",
   "pygments_lexer": "ipython3",
   "version": "3.10.9"
  },
  "orig_nbformat": 4,
  "vscode": {
   "interpreter": {
    "hash": "aee8b7b246df8f9039afb4144a1f6fd8d2ca17a180786b69acc140d282b71a49"
   }
  }
 },
 "nbformat": 4,
 "nbformat_minor": 2
}
